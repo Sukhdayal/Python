{
 "cells": [
  {
   "cell_type": "markdown",
   "id": "b6fbc204",
   "metadata": {},
   "source": [
    "### What is Python?\n",
    "Python is a high-level, interpreted programming language known for its easy-to-read syntax. It was created by **Guido van Rossum** and first released in 1991. Python supports multiple programming paradigms, including procedural, object-oriented, and functional programming.\n",
    "\n",
    "### Key Features\n",
    "- **Simple and Easy to Learn**: Python has a simple syntax similar to the English language.\n",
    "- **Interpreted Language**: Python code is executed line by line, which makes debugging easier.\n",
    "- **Dynamically Typed**: You don’t need to declare variable types; they are inferred during execution.\n",
    "- **Extensive Libraries**: Python’s standard library is very extensive, offering modules and functions for a wide variety of tasks.\n",
    "- **Open Source**: Python is freely available and supported by a large community.\n",
    "\n",
    "### Common Uses\n",
    "- **Web Development**: Python can be used to build server-side web applications. Frameworks like Django and Flask are popular choices.\n",
    "- **Data Science**: Python is a leading language in data analysis, visualization, and machine learning with libraries such as NumPy, Pandas, and Scikit-Learn.\n",
    "- **Automation**: Python is often used for writing scripts to automate repetitive tasks.\n",
    "- **Artificial Intelligence**: Python’s simplicity and the powerful libraries make it a top choice for AI and machine learning projects.\n",
    "\n",
    "### Getting Started\n",
    "To start programming in Python, you need to set up the environment:\n",
    "1. **Install Python**: Download Python from the official site ([python.org](https://www.python.org/)) and install it.\n",
    "2. **Choose an IDE or Editor**: Use tools like PyCharm, Jupyter Notebook, or even a simple text editor like VS Code.\n",
    "3. **Write Your First Program**:\n",
    "   ```python\n",
    "   print(\"Hello, World!\")\n",
    "   ```\n",
    "4. **Explore Further**: Learn about data types, control structures, functions, and classes.\n",
    "\n",
    "Python’s simplicity and the vast array of libraries make it an excellent choice for beginners and professionals alike. Whether you're developing web applications, diving into data science, or automating daily tasks, Python offers a straightforward path to achieve your goals."
   ]
  },
  {
   "cell_type": "code",
   "execution_count": 2,
   "id": "4be40497",
   "metadata": {},
   "outputs": [
    {
     "name": "stdout",
     "output_type": "stream",
     "text": [
      "hello World\n"
     ]
    }
   ],
   "source": [
    "print(\"hello World\")"
   ]
  },
  {
   "cell_type": "markdown",
   "id": "602f3c1b",
   "metadata": {},
   "source": [
    "# 1. **Basic Data Types**\n",
    "- **Integers (`int`)**: Whole numbers without a decimal point, such as `1`, `100`, or `-20`.\n",
    "- **Floating Point Numbers (`float`)**: Numbers that include a decimal point or are in exponential form, like `3.14`, `2.5e2` (which equals `250.0`).\n",
    "- **Strings (`str`)**: A sequence of characters enclosed in single quotes (`'...'`) or double quotes (`\"...\"`), like `'hello'` or `\"Python is fun!\"`.\n",
    "- **Booleans (`bool`)**: Represents one of two values: `True` or `False`. Useful for conditions and control flow."
   ]
  },
  {
   "cell_type": "code",
   "execution_count": 15,
   "id": "73adf9cc",
   "metadata": {},
   "outputs": [
    {
     "name": "stdout",
     "output_type": "stream",
     "text": [
      "Integer: 10\n",
      "Floating-point: 3.14\n",
      "String: Hello, Python!\n",
      "Boolean a: True\n",
      "Boolean b: False\n"
     ]
    }
   ],
   "source": [
    "# Integer\n",
    "x = 10\n",
    "print(\"Integer:\", x)  # Output: Integer: 10\n",
    "\n",
    "# Floating-point\n",
    "y = 3.14\n",
    "print(\"Floating-point:\", y)  # Output: Floating-point: 3.14\n",
    "\n",
    "# String\n",
    "z = \"Hello, Python!\"\n",
    "print(\"String:\", z)  # Output: String: Hello, Python!\n",
    "\n",
    "# Boolean\n",
    "a = True\n",
    "b = False\n",
    "print(\"Boolean a:\", a)  # Output: Boolean a: True\n",
    "print(\"Boolean b:\", b)  # Output: Boolean b: False\n"
   ]
  },
  {
   "cell_type": "markdown",
   "id": "25a8ede4",
   "metadata": {},
   "source": [
    "### 2. **Composite Data Types**\n",
    "- **Lists**: Ordered, mutable (changeable) collections of items, defined by square brackets. For example, `[1, 2, 3]` or `['apple', 'banana', 'cherry']`.\n",
    "- **Tuples**: Ordered, immutable collections, defined by parentheses. Example: `(1, 2, 3)` or `('a', 'b', 'c')`.\n",
    "- **Dictionaries**: Unordered collections of key-value pairs, defined by curly braces with keys and values separated by colons. Example: `{'name': 'John', 'age': 30}`.\n",
    "- **Sets**: Unordered, mutable collections of unique elements, defined by curly braces. Example: `{1, 2, 3, 4, 5}`."
   ]
  },
  {
   "cell_type": "markdown",
   "id": "f212b197",
   "metadata": {},
   "source": [
    "**Mutable vs Immutable Data Types**\n",
    "- **Mutable**: Can be changed after creation (e.g., lists, dictionaries, sets).\n",
    "- **Immutable**: Cannot be changed after creation (e.g., integers, floats, strings, tuples)."
   ]
  },
  {
   "cell_type": "code",
   "execution_count": 17,
   "id": "1f329373",
   "metadata": {},
   "outputs": [
    {
     "name": "stdout",
     "output_type": "stream",
     "text": [
      "List: [1, 2, 3, 4, 5]\n",
      "Tuple: (1, 'apple', 3.14)\n",
      "Dictionary: {'name': 'John', 'age': 30}\n",
      "Set: {1, 2, 3, 4, 5}\n"
     ]
    }
   ],
   "source": [
    "# List\n",
    "my_list = [1, 2, 3, 4, 5]\n",
    "print(\"List:\", my_list)  # Output: List: [1, 2, 3, 4, 5]\n",
    "\n",
    "# Tuple\n",
    "my_tuple = (1, 'apple', 3.14)\n",
    "print(\"Tuple:\", my_tuple)  # Output: Tuple: (1, 'apple', 3.14)\n",
    "\n",
    "# Dictionary\n",
    "my_dict = {'name': 'John', 'age': 30}\n",
    "print(\"Dictionary:\", my_dict)  # Output: Dictionary: {'name': 'John', 'age': 30}\n",
    "\n",
    "# Set\n",
    "my_set = {1, 2, 3, 4, 5}\n",
    "print(\"Set:\", my_set)  # Output: Set: {1, 2, 3, 4, 5}"
   ]
  },
  {
   "cell_type": "markdown",
   "id": "9a7d7ef0",
   "metadata": {},
   "source": [
    "### 1. **Arithmetic Operators**\n",
    "Used for performing mathematical operations like addition, subtraction, multiplication, etc.\n",
    "- `+` Addition: Adds two operands. E.g., `x + y`\n",
    "- `-` Subtraction: Subtracts the right operand from the left. E.g., `x - y`\n",
    "- `*` Multiplication: Multiplies two operands. E.g., `x * y`\n",
    "- `/` Division: Divides the left operand by the right operand. E.g., `x / y` (always returns a float).\n",
    "- `//` Floor Division: Divides and returns the integer value of the quotient. It dumps the digits after the decimal. E.g., `x // y`\n",
    "- `%` Modulus: Returns the remainder of the division. E.g., `x % y`\n",
    "- `**` Exponentiation: Left operand raised to the power of right. E.g., `x ** y`"
   ]
  },
  {
   "cell_type": "code",
   "execution_count": 9,
   "id": "5430ccf2",
   "metadata": {},
   "outputs": [
    {
     "name": "stdout",
     "output_type": "stream",
     "text": [
      "A =  12 B =  5\n",
      "Result of the Addition operation  17\n",
      "Result of the Subtration operation  7\n",
      "Result of the Multiplication operation  60\n",
      "Result of the Division operation  2.4\n",
      "Result of the Floor Divison operation  2\n",
      "Result of the Modulus operation  2\n",
      "Result of the Exponenation operation  248832\n"
     ]
    }
   ],
   "source": [
    "a = 12\n",
    "b = 5\n",
    "\n",
    "c = a+b\n",
    "d = a-b\n",
    "e = a*b\n",
    "f = a/b\n",
    "g = a//b\n",
    "h = a%b\n",
    "i = a**b\n",
    "\n",
    "# Print the result\n",
    "print(\"A = \",a,\"B = \",b)\n",
    "print(\"Result of the Addition operation \",c)\n",
    "print(\"Result of the Subtration operation \",d)\n",
    "print(\"Result of the Multiplication operation \",e)\n",
    "print(\"Result of the Division operation \",f)\n",
    "print(\"Result of the Floor Divison operation \",g)\n",
    "print(\"Result of the Modulus operation \",h)\n",
    "print(\"Result of the Exponenation operation \",i)"
   ]
  },
  {
   "cell_type": "markdown",
   "id": "8fc10007",
   "metadata": {},
   "source": [
    "### 2. **Comparison Operators**\n",
    "Used for comparing values. It either returns True or False according to the condition.\n",
    "- `==` Equal to: True if both operands are equal. E.g., `x == y`\n",
    "- `!=` Not equal to: True if operands are not equal. E.g., `x != y`\n",
    "- `>` Greater than: True if left operand is greater than the right. E.g., `x > y`\n",
    "- `<` Less than: True if left operand is less than the right. E.g., `x < y`\n",
    "- `>=` Greater than or equal to: True if left is greater than or equal to the right. E.g., `x >= y`\n",
    "- `<=` Less than or equal to: True if left is less than or equal to the right. E.g., `x <= y`"
   ]
  },
  {
   "cell_type": "code",
   "execution_count": 18,
   "id": "bc0abe66",
   "metadata": {},
   "outputs": [
    {
     "name": "stdout",
     "output_type": "stream",
     "text": [
      "a == b: False\n",
      "a != b: True\n",
      "a > b: False\n",
      "a < b: True\n",
      "a >= b: False\n",
      "a <= b: True\n"
     ]
    }
   ],
   "source": [
    "# Declare variables\n",
    "a = 10\n",
    "b = 20\n",
    "\n",
    "# Equal to\n",
    "print(f\"a == b: {a == b}\")  # Outputs: False\n",
    "\n",
    "# Not equal to\n",
    "print(f\"a != b: {a != b}\")  # Outputs: True\n",
    "\n",
    "# Greater than\n",
    "print(f\"a > b: {a > b}\")    # Outputs: False\n",
    "\n",
    "# Less than\n",
    "print(f\"a < b: {a < b}\")    # Outputs: True\n",
    "\n",
    "# Greater than or equal to\n",
    "print(f\"a >= b: {a >= b}\")  # Outputs: False\n",
    "\n",
    "# Less than or equal to\n",
    "print(f\"a <= b: {a <= b}\")  # Outputs: True"
   ]
  },
  {
   "cell_type": "markdown",
   "id": "7f228021",
   "metadata": {},
   "source": [
    "### 3. **Logical Operators**\n",
    "Used to combine conditional statements.\n",
    "- `and` Logical AND: True if both the operands are true. E.g., `x < 5 and  x < 10`\n",
    "- `or` Logical OR: True if at least one of the operands is true. E.g., `x < 5 or x < 4`\n",
    "- `not` Logical NOT: True if operand is false. E.g., `not(x < 5 and x < 10)`"
   ]
  },
  {
   "cell_type": "code",
   "execution_count": 12,
   "id": "170319a4",
   "metadata": {},
   "outputs": [
    {
     "name": "stdout",
     "output_type": "stream",
     "text": [
      "x and y: False\n",
      "x and z: True\n",
      "x or y: True\n",
      "y or z: True\n",
      "not x: False\n",
      "not y: True\n"
     ]
    }
   ],
   "source": [
    "# Declare boolean variables\n",
    "x = True\n",
    "y = False\n",
    "z = True\n",
    "\n",
    "# Logical AND\n",
    "print(f\"x and y: {x and y}\")  # Outputs: False because both x and y are not True (y is False)\n",
    "print(f\"x and z: {x and z}\")  # Outputs: True because both x and z are True\n",
    "\n",
    "# Logical OR\n",
    "print(f\"x or y: {x or y}\")   # Outputs: True because at least one (x) is True\n",
    "print(f\"y or z: {y or z}\")   # Outputs: True because at least one (z) is True\n",
    "\n",
    "# Logical NOT\n",
    "print(f\"not x: {not x}\")     # Outputs: False because x is True, so not True is False\n",
    "print(f\"not y: {not y}\")     # Outputs: True because y is False, so not False is True\n"
   ]
  },
  {
   "cell_type": "markdown",
   "id": "6003eedc",
   "metadata": {},
   "source": [
    "### 4. **Assignment Operators**\n",
    "Used to assign values to variables.\n",
    "- `=` Simple assignment: Assigns values from right side to left side. E.g., `x = 5`\n",
    "- `+=` Add AND: It adds right operand to the left operand and assign the result to left operand. E.g., `x += 5` is equivalent to `x = x + 5`\n",
    "- `-=`, `*=`, `/=`, `%=`, `//=`, `**=` etc., follow similar logic for subtraction, multiplication, and other arithmetic operations."
   ]
  },
  {
   "cell_type": "code",
   "execution_count": 14,
   "id": "e6c0a969",
   "metadata": {},
   "outputs": [
    {
     "name": "stdout",
     "output_type": "stream",
     "text": [
      "a = b: 5\n",
      "a += b: 10\n",
      "a -= b: 5\n",
      "a *= b: 25\n",
      "a /= b: 5.0\n",
      "a %= b: 0.0\n",
      "a **= b: 32\n",
      "a //= b: 1\n"
     ]
    }
   ],
   "source": [
    "# Initial values\n",
    "a = 10\n",
    "b = 5\n",
    "# Simple assignment\n",
    "a = b\n",
    "print(\"a = b:\", a)  # Output: 5\n",
    "\n",
    "# Add AND assignment\n",
    "a += b  # Equivalent to a = a + b\n",
    "print(\"a += b:\", a)  # Output: 10\n",
    "\n",
    "# Subtract AND assignment\n",
    "a -= b  # Equivalent to a = a - b\n",
    "print(\"a -= b:\", a)  # Output: 5\n",
    "\n",
    "# Multiply AND assignment\n",
    "a *= b  # Equivalent to a = a * b\n",
    "print(\"a *= b:\", a)  # Output: 25\n",
    "\n",
    "# Divide AND assignment\n",
    "a /= b  # Equivalent to a = a / b\n",
    "print(\"a /= b:\", a)  # Output: 5.0\n",
    "\n",
    "# Modulus AND assignment\n",
    "a %= b  # Equivalent to a = a % b\n",
    "print(\"a %= b:\", a)  # Output: 0.0\n",
    "\n",
    "# Exponent AND assignment\n",
    "a = 2  # Resetting a for exponentiation\n",
    "a **= b  # Equivalent to a = a ** b\n",
    "print(\"a **= b:\", a)  # Output: 32\n",
    "\n",
    "# Floor Division AND assignment\n",
    "a = 7\n",
    "a //= b  # Equivalent to a = a // b\n",
    "print(\"a //= b:\", a)  # Output: 1\n"
   ]
  },
  {
   "cell_type": "markdown",
   "id": "5e139648",
   "metadata": {},
   "source": [
    "### 5. **Bitwise Operators**\n",
    "Operate bit by bit, performing bit-level operations.\n",
    "- `&` AND: Sets each bit to 1 if both bits are 1.\n",
    "- `|` OR: Sets each bit to 1 if one of two bits is 1.\n",
    "- `^` XOR: Sets each bit to 1 if only one of two bits is 1.\n",
    "- `~` NOT: Inverts all the bits.\n",
    "- `<<` Left Shift: Shifts the bits of the number to the left and fills 0 on voids left as per the rule.\n",
    "- `>>` Right Shift: Shifts the bits of the number to the right and fills 0 on voids left as per the rule."
   ]
  },
  {
   "cell_type": "markdown",
   "id": "982fec85",
   "metadata": {},
   "source": [
    "### 6. **Membership Operators**\n",
    "Used to test whether a value or variable is found in a sequence (`string`, `list`, `tuple`, `set` and `dictionary`).\n",
    "- `in` True if value/variable is found in the sequence.\n",
    "- `not in` True if value/variable is not found in the sequence."
   ]
  },
  {
   "cell_type": "markdown",
   "id": "8b2f876e",
   "metadata": {},
   "source": [
    "### 7. **Identity Operators**\n",
    "Used to compare the memory locations of two objects.\n",
    "- `is` True if the operands are identical.\n",
    "- `is not` True if the operands are not identical."
   ]
  },
  {
   "cell_type": "code",
   "execution_count": null,
   "id": "c2713022",
   "metadata": {},
   "outputs": [],
   "source": []
  },
  {
   "cell_type": "code",
   "execution_count": null,
   "id": "1f935239",
   "metadata": {},
   "outputs": [],
   "source": []
  },
  {
   "cell_type": "code",
   "execution_count": null,
   "id": "4c8b9bf4",
   "metadata": {},
   "outputs": [],
   "source": []
  },
  {
   "cell_type": "code",
   "execution_count": null,
   "id": "e5d1f3a9",
   "metadata": {},
   "outputs": [],
   "source": []
  },
  {
   "cell_type": "code",
   "execution_count": null,
   "id": "830eb502",
   "metadata": {},
   "outputs": [],
   "source": []
  },
  {
   "cell_type": "code",
   "execution_count": null,
   "id": "1dcc5db5",
   "metadata": {},
   "outputs": [],
   "source": []
  },
  {
   "cell_type": "code",
   "execution_count": null,
   "id": "a8cd71a1",
   "metadata": {},
   "outputs": [],
   "source": []
  },
  {
   "cell_type": "code",
   "execution_count": null,
   "id": "909ab850",
   "metadata": {},
   "outputs": [],
   "source": []
  },
  {
   "cell_type": "code",
   "execution_count": null,
   "id": "b21315a6",
   "metadata": {},
   "outputs": [],
   "source": []
  },
  {
   "cell_type": "code",
   "execution_count": null,
   "id": "d72e6d92",
   "metadata": {},
   "outputs": [],
   "source": []
  },
  {
   "cell_type": "code",
   "execution_count": null,
   "id": "d48cd71c",
   "metadata": {},
   "outputs": [],
   "source": []
  },
  {
   "cell_type": "code",
   "execution_count": null,
   "id": "7e4faf42",
   "metadata": {},
   "outputs": [],
   "source": []
  },
  {
   "cell_type": "code",
   "execution_count": null,
   "id": "76f8bbd4",
   "metadata": {},
   "outputs": [],
   "source": []
  },
  {
   "cell_type": "code",
   "execution_count": null,
   "id": "6870dff0",
   "metadata": {},
   "outputs": [],
   "source": []
  },
  {
   "cell_type": "code",
   "execution_count": null,
   "id": "ae2dae16",
   "metadata": {},
   "outputs": [],
   "source": []
  },
  {
   "cell_type": "code",
   "execution_count": null,
   "id": "df4e598e",
   "metadata": {},
   "outputs": [],
   "source": []
  },
  {
   "cell_type": "code",
   "execution_count": null,
   "id": "a72fa779",
   "metadata": {},
   "outputs": [],
   "source": []
  }
 ],
 "metadata": {
  "kernelspec": {
   "display_name": "Python 3 (ipykernel)",
   "language": "python",
   "name": "python3"
  },
  "language_info": {
   "codemirror_mode": {
    "name": "ipython",
    "version": 3
   },
   "file_extension": ".py",
   "mimetype": "text/x-python",
   "name": "python",
   "nbconvert_exporter": "python",
   "pygments_lexer": "ipython3",
   "version": "3.11.3"
  }
 },
 "nbformat": 4,
 "nbformat_minor": 5
}
