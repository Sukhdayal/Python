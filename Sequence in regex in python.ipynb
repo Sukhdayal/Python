{
 "cells": [
  {
   "cell_type": "markdown",
   "id": "54caf0a8",
   "metadata": {},
   "source": [
    "# 1. **`\\w`: Word Characters**\n",
    "   - **Explanation:** Matches any \"word character,\" which includes letters (both uppercase and lowercase), digits, and underscores.\n",
    "   - **Equivalent to:** `[a-zA-Z0-9_]`\n",
    "   - **Example:**"
   ]
  },
  {
   "cell_type": "code",
   "execution_count": 2,
   "id": "cdf3322a",
   "metadata": {},
   "outputs": [
    {
     "name": "stdout",
     "output_type": "stream",
     "text": [
      "['Hello_123']\n"
     ]
    }
   ],
   "source": [
    "import re\n",
    "pattern = r\"\\w+\"\n",
    "text = \"Hello_123\"\n",
    "matches = re.findall(pattern, text)\n",
    "print(matches)  # Output: ['Hello_123']"
   ]
  },
  {
   "cell_type": "markdown",
   "id": "ee7c20d0",
   "metadata": {},
   "source": [
    "   - `\\w+` matches the whole sequence \"Hello_123\" because it consists entirely of word characters."
   ]
  },
  {
   "cell_type": "markdown",
   "id": "134f5d98",
   "metadata": {},
   "source": [
    "### 2. **`\\d`: Digit Characters**\n",
    "   - **Explanation:** Matches any digit (0-9).\n",
    "   - **Equivalent to:** `[0-9]`\n",
    "   - **Example:**"
   ]
  },
  {
   "cell_type": "code",
   "execution_count": 7,
   "id": "40a077f1",
   "metadata": {},
   "outputs": [
    {
     "name": "stdout",
     "output_type": "stream",
     "text": [
      "['123', '456']\n"
     ]
    }
   ],
   "source": [
    "import re\n",
    "pattern = r\"\\d+\"\n",
    "text = \"There are 123 apples 456\"\n",
    "matches = re.findall(pattern, text)\n",
    "print(matches)  # Output: ['123']"
   ]
  },
  {
   "cell_type": "markdown",
   "id": "a443c265",
   "metadata": {},
   "source": [
    " - `\\d+` matches the number \"123\" in the string."
   ]
  },
  {
   "cell_type": "markdown",
   "id": "e006c981",
   "metadata": {},
   "source": [
    "# 3. **`\\s`: Whitespace Characters**\n",
    "   - **Explanation:** Matches any whitespace character, including spaces, tabs, and newlines.\n",
    "   - **Equivalent to:** `[ \\t\\n\\r\\f\\v]`\n",
    "   - **Example:**\n",
    "     ```python"
   ]
  },
  {
   "cell_type": "code",
   "execution_count": 8,
   "id": "26213cd0",
   "metadata": {},
   "outputs": [
    {
     "name": "stdout",
     "output_type": "stream",
     "text": [
      "[' ', '  ', ' ']\n"
     ]
    }
   ],
   "source": [
    "import re\n",
    "pattern = r\"\\s+\"\n",
    "text = \"Hello Wor  ld \"\n",
    "matches = re.findall(pattern, text)\n",
    "print(matches)  # Output: ['   ']"
   ]
  },
  {
   "cell_type": "markdown",
   "id": "19b64d0d",
   "metadata": {},
   "source": [
    "     - `\\s+` matches the space between \"Hello\" and \"World.\""
   ]
  },
  {
   "cell_type": "markdown",
   "id": "2bcf59d6",
   "metadata": {},
   "source": [
    " 4. **`\\W`: Non-Word Characters**\n",
    "   - **Explanation:** Matches any character that is not a word character. This includes punctuation, spaces, and special symbols.\n",
    "   - **Equivalent to:** `[^a-zA-Z0-9_]`\n",
    "   - **Example:**\n",
    "     "
   ]
  },
  {
   "cell_type": "code",
   "execution_count": 10,
   "id": "01044cfd",
   "metadata": {},
   "outputs": [
    {
     "name": "stdout",
     "output_type": "stream",
     "text": [
      "[', ', '! ', ' ', ' ', ' ', ' ']\n"
     ]
    }
   ],
   "source": [
    "import re\n",
    "pattern = r\"\\W+\"\n",
    "text = \"Hello, World! this is 5th b Class\"\n",
    "matches = re.findall(pattern, text)\n",
    "print(matches)  # Output: [', ', '!']"
   ]
  },
  {
   "cell_type": "markdown",
   "id": "866084ff",
   "metadata": {},
   "source": [
    "     - `\\W+` matches the comma, space, and exclamation mark in the text."
   ]
  },
  {
   "cell_type": "markdown",
   "id": "4763bfa6",
   "metadata": {},
   "source": [
    "### 5. **`\\D`: Non-Digit Characters**\n",
    "   - **Explanation:** Matches any character that is not a digit.\n",
    "   - **Equivalent to:** `[^0-9]`\n",
    "   - **Example:**\n"
   ]
  },
  {
   "cell_type": "code",
   "execution_count": 9,
   "id": "3fefbd3f",
   "metadata": {},
   "outputs": [
    {
     "name": "stdout",
     "output_type": "stream",
     "text": [
      "[' Main Street ']\n"
     ]
    }
   ],
   "source": [
    "import re\n",
    "pattern = r\"\\D+\"\n",
    "text = \"123 Main Street 234\"\n",
    "matches = re.findall(pattern, text)\n",
    "print(matches)  # Output: [' Main Street']"
   ]
  },
  {
   "cell_type": "markdown",
   "id": "97e9d842",
   "metadata": {},
   "source": [
    "     - `\\D+` matches everything except the digits \"123\"."
   ]
  },
  {
   "cell_type": "markdown",
   "id": "b08a9b2a",
   "metadata": {},
   "source": [
    "### 6. **`\\S`: Non-Whitespace Characters**\n",
    "   - **Explanation:** Matches any character that is not a whitespace character.\n",
    "   - **Equivalent to:** `[^ \\t\\n\\r\\f\\v]`\n",
    "   - **Example:**"
   ]
  },
  {
   "cell_type": "code",
   "execution_count": 13,
   "id": "d528917e",
   "metadata": {},
   "outputs": [
    {
     "name": "stdout",
     "output_type": "stream",
     "text": [
      "['He', 'llo', 'World']\n"
     ]
    }
   ],
   "source": [
    "import re\n",
    "pattern = r\"\\S+\"\n",
    "text = \"He llo World\"\n",
    "matches = re.findall(pattern, text)\n",
    "print(matches)  # Output: ['Hello', 'World']"
   ]
  },
  {
   "cell_type": "markdown",
   "id": "b8f5c324",
   "metadata": {},
   "source": [
    "     - `\\S+` matches the words \"Hello\" and \"World\", but not the space between them."
   ]
  },
  {
   "cell_type": "markdown",
   "id": "10472fed",
   "metadata": {},
   "source": [
    "### 7. **`\\b`: Word Boundary**\n",
    "   - **Explanation:** Matches the position between a word character and a non-word character. It's used to find whole words.\n",
    "   - **Example:**\n",
    "     "
   ]
  },
  {
   "cell_type": "code",
   "execution_count": 9,
   "id": "d10c38fa",
   "metadata": {},
   "outputs": [
    {
     "name": "stdout",
     "output_type": "stream",
     "text": [
      "World\n"
     ]
    }
   ],
   "source": [
    "import re\n",
    "pattern = r\"\\bWorld\\b\"\n",
    "text = \"Hello World!\"\n",
    "match = re.search(pattern, text)\n",
    "print(match.group())  # Output: 'World'"
   ]
  },
  {
   "cell_type": "markdown",
   "id": "f8cba440",
   "metadata": {},
   "source": [
    "     - `\\bWorld\\b` matches \"World\" only if it is a whole word, not part of another word."
   ]
  },
  {
   "cell_type": "markdown",
   "id": "2d3212c7",
   "metadata": {},
   "source": [
    "### 8. **`\\B`: Non-Word Boundary**\n",
    "   - **Explanation:** Matches the position where `\\b` does not match. It’s used to find patterns within words.\n",
    "   - **Example:**\n",
    "     "
   ]
  },
  {
   "cell_type": "code",
   "execution_count": 10,
   "id": "b2dc4caa",
   "metadata": {},
   "outputs": [
    {
     "name": "stdout",
     "output_type": "stream",
     "text": [
      "llo\n"
     ]
    }
   ],
   "source": [
    "import re\n",
    "pattern = r\"\\Bllo\"\n",
    "text = \"Hello\"\n",
    "match = re.search(pattern, text)\n",
    "print(match.group())  # Output: 'llo'"
   ]
  },
  {
   "cell_type": "markdown",
   "id": "7a3a51f5",
   "metadata": {},
   "source": [
    "     - `\\Bllo` matches \"llo\" because it is not at the start or end of a word."
   ]
  },
  {
   "cell_type": "markdown",
   "id": "6ef2476a",
   "metadata": {},
   "source": [
    "### 9. **`\\A`: Start of String**\n",
    "   - **Explanation:** Matches only at the start of the string.\n",
    "   - **Example:**"
   ]
  },
  {
   "cell_type": "code",
   "execution_count": 11,
   "id": "3b249f97",
   "metadata": {},
   "outputs": [
    {
     "name": "stdout",
     "output_type": "stream",
     "text": [
      "Hello\n"
     ]
    }
   ],
   "source": [
    "import re\n",
    "pattern = r\"\\AHello\"\n",
    "text = \"Hello World\"\n",
    "match = re.search(pattern, text)\n",
    "print(match.group())  # Output: 'Hello'"
   ]
  },
  {
   "cell_type": "markdown",
   "id": "2be1ebb3",
   "metadata": {},
   "source": [
    "     - `\\AHello` matches \"Hello\" only if it is at the beginning of the string."
   ]
  },
  {
   "cell_type": "markdown",
   "id": "26d9a045",
   "metadata": {},
   "source": [
    "### 10. **`\\Z`: End of String**\n",
    "   - **Explanation:** Matches only at the end of the string.\n",
    "   - **Example:**"
   ]
  },
  {
   "cell_type": "code",
   "execution_count": 12,
   "id": "e5ef4d65",
   "metadata": {},
   "outputs": [
    {
     "name": "stdout",
     "output_type": "stream",
     "text": [
      "World\n"
     ]
    }
   ],
   "source": [
    "import re\n",
    "pattern = r\"World\\Z\"\n",
    "text = \"Hello World\"\n",
    "match = re.search(pattern, text)\n",
    "print(match.group())  # Output: 'World'"
   ]
  },
  {
   "cell_type": "markdown",
   "id": "d45ad99b",
   "metadata": {},
   "source": [
    "     - `World\\Z` matches \"World\" only if it is at the end of the string.\n",
    "    "
   ]
  },
  {
   "cell_type": "markdown",
   "id": "d233dc46",
   "metadata": {},
   "source": [
    "### 11. **`\\`: Escape Character**\n",
    "   - **Explanation:** Used to escape special characters so they can be matched literally. For example, `\\.` matches a literal dot, rather than any character.\n",
    "   - **Example:**"
   ]
  },
  {
   "cell_type": "code",
   "execution_count": 14,
   "id": "bd9465ca",
   "metadata": {},
   "outputs": [
    {
     "name": "stdout",
     "output_type": "stream",
     "text": [
      ".\n"
     ]
    }
   ],
   "source": [
    "import re\n",
    "pattern = r\"\\.\"\n",
    "text = \"This is a dot.\"\n",
    "match = re.search(pattern, text)\n",
    "print(match.group())  # Output: '.'"
   ]
  },
  {
   "cell_type": "markdown",
   "id": "ca92ce72",
   "metadata": {},
   "source": [
    "     - `\\.` matches the dot in the string.\n",
    "\n",
    "These sequences are essential in regex for efficiently matching and finding patterns within strings. By combining these sequences, you can create complex patterns that precisely match the text you're looking for."
   ]
  },
  {
   "cell_type": "code",
   "execution_count": null,
   "id": "f754e002",
   "metadata": {},
   "outputs": [],
   "source": []
  }
 ],
 "metadata": {
  "kernelspec": {
   "display_name": "Python 3 (ipykernel)",
   "language": "python",
   "name": "python3"
  },
  "language_info": {
   "codemirror_mode": {
    "name": "ipython",
    "version": 3
   },
   "file_extension": ".py",
   "mimetype": "text/x-python",
   "name": "python",
   "nbconvert_exporter": "python",
   "pygments_lexer": "ipython3",
   "version": "3.11.3"
  }
 },
 "nbformat": 4,
 "nbformat_minor": 5
}
