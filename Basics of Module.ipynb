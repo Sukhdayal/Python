{
 "cells": [
  {
   "cell_type": "markdown",
   "id": "fb5cb8c2",
   "metadata": {},
   "source": [
    "# Simple Python program to add two integers"
   ]
  },
  {
   "cell_type": "code",
   "execution_count": 48,
   "id": "d4fb8ba7",
   "metadata": {},
   "outputs": [
    {
     "name": "stdout",
     "output_type": "stream",
     "text": [
      "The sum of 5 and 10 is: 15\n"
     ]
    }
   ],
   "source": [
    "# Define two integers\n",
    "number1 = 5\n",
    "number2 = 10\n",
    "\n",
    "# Add the two numbers\n",
    "sum = number1 + number2\n",
    "\n",
    "# Display the result\n",
    "print(\"The sum of\", number1, \"and\", number2, \"is:\", sum)"
   ]
  },
  {
   "cell_type": "markdown",
   "id": "643bc1e5",
   "metadata": {},
   "source": [
    "# Function to add two integers"
   ]
  },
  {
   "cell_type": "code",
   "execution_count": 49,
   "id": "34efc941",
   "metadata": {},
   "outputs": [],
   "source": [
    "def add_numbers(num1, num2):\n",
    "    return num1 + num2"
   ]
  },
  {
   "cell_type": "code",
   "execution_count": 50,
   "id": "b52dba16",
   "metadata": {},
   "outputs": [
    {
     "name": "stdout",
     "output_type": "stream",
     "text": [
      "The sum of 5 and 10 is: 15\n"
     ]
    }
   ],
   "source": [
    "# Define two integers\n",
    "number1 = 5\n",
    "number2 = 10\n",
    "\n",
    "# Call the function and store the result\n",
    "result = add_numbers(number1, number2)\n",
    "\n",
    "# Display the result\n",
    "print(\"The sum of\", number1, \"and\", number2, \"is:\", result)"
   ]
  },
  {
   "cell_type": "code",
   "execution_count": 51,
   "id": "221ba555",
   "metadata": {},
   "outputs": [
    {
     "name": "stdout",
     "output_type": "stream",
     "text": [
      "25\n"
     ]
    }
   ],
   "source": [
    "result = add_numbers(12, 13)\n",
    "print(result)"
   ]
  },
  {
   "cell_type": "code",
   "execution_count": 53,
   "id": "d739380b",
   "metadata": {},
   "outputs": [
    {
     "name": "stdout",
     "output_type": "stream",
     "text": [
      "254\n"
     ]
    }
   ],
   "source": [
    "result = add_numbers(121, 133)\n",
    "print(result)"
   ]
  },
  {
   "cell_type": "code",
   "execution_count": null,
   "id": "d6986c1d",
   "metadata": {},
   "outputs": [],
   "source": []
  },
  {
   "cell_type": "markdown",
   "id": "dfee2772",
   "metadata": {},
   "source": [
    "# Creating a Module"
   ]
  },
  {
   "cell_type": "markdown",
   "id": "fce8b09a",
   "metadata": {},
   "source": [
    "# M5B\n",
    "def sum(a, b):\n",
    "    return a + b\n",
    "\n",
    "def mul(a,b): \n",
    "    return a*b\n",
    "\n",
    "def div(a,b): \n",
    "    return a/b"
   ]
  },
  {
   "cell_type": "markdown",
   "id": "498114a4",
   "metadata": {},
   "source": [
    "##### This is a module which we have created with the use of an extension named .py, we have added different functions in it "
   ]
  },
  {
   "cell_type": "markdown",
   "id": "85bab976",
   "metadata": {},
   "source": [
    "### 1. Importing the Entire Module\n",
    "You can import the entire module and access its attributes (functions) using the module's name as a prefix."
   ]
  },
  {
   "cell_type": "code",
   "execution_count": 55,
   "id": "24a6639d",
   "metadata": {},
   "outputs": [
    {
     "name": "stdout",
     "output_type": "stream",
     "text": [
      "10\n",
      "20\n",
      "5.0\n"
     ]
    }
   ],
   "source": [
    "import M5B\n",
    "\n",
    "# Accessing the sum, mul, and div functions from the M5B module\n",
    "print(M5B.sum(5, 5))  # Output: 9\n",
    "print(M5B.mul(4, 5))  # Output: 20\n",
    "print(M5B.div(10, 2)) # Output: 5.0"
   ]
  },
  {
   "cell_type": "markdown",
   "id": "fd2a3e9b",
   "metadata": {},
   "source": [
    "## 2. Importing Specific Attributes\n",
    "If you only need specific functions from the M5B module, you can import them directly. This allows you to use the functions without the module name prefix."
   ]
  },
  {
   "cell_type": "code",
   "execution_count": 57,
   "id": "5a2d6807",
   "metadata": {},
   "outputs": [
    {
     "name": "stdout",
     "output_type": "stream",
     "text": [
      "9\n",
      "20\n"
     ]
    }
   ],
   "source": [
    "from M5B import sum, mul\n",
    "\n",
    "# Directly using the imported functions\n",
    "print(sum(4, 5))  # Output: 9\n",
    "print(mul(4, 5))  # Output: 20"
   ]
  },
  {
   "cell_type": "markdown",
   "id": "ce608468",
   "metadata": {},
   "source": [
    "## 3. Importing All Attributes\n",
    "You can import everything from the M5B module using *, but this is generally not recommended because it can lead to confusion, especially if different modules have attributes with the same name."
   ]
  },
  {
   "cell_type": "code",
   "execution_count": 58,
   "id": "0e1c263d",
   "metadata": {},
   "outputs": [
    {
     "name": "stdout",
     "output_type": "stream",
     "text": [
      "9\n",
      "20\n",
      "5.0\n"
     ]
    }
   ],
   "source": [
    "from M5B import *\n",
    "\n",
    "# Now all functions of the M5B module are available\n",
    "print(sum(4, 5))  # Output: 9\n",
    "print(mul(4, 5))  # Output: 20\n",
    "print(div(10, 2)) # Output: 5.0"
   ]
  },
  {
   "cell_type": "markdown",
   "id": "167e5dcb",
   "metadata": {},
   "source": [
    "## 4. Importing with an Alias\n",
    "You can import the M5B module and give it a shorter name (alias) for convenience."
   ]
  },
  {
   "cell_type": "code",
   "execution_count": 59,
   "id": "69e790d0",
   "metadata": {},
   "outputs": [
    {
     "name": "stdout",
     "output_type": "stream",
     "text": [
      "9\n",
      "20\n",
      "5.0\n"
     ]
    }
   ],
   "source": [
    "import M5B as m\n",
    "\n",
    "# Using the alias to access module functions\n",
    "print(m.sum(4, 5))  # Output: 9\n",
    "print(m.mul(4, 5))  # Output: 20\n",
    "print(m.div(10, 2)) # Output: 5.0"
   ]
  },
  {
   "cell_type": "markdown",
   "id": "c11d2597",
   "metadata": {},
   "source": [
    "## 5. Importing Specific Attributes with an Alias\n",
    "You can also give specific functions an alias if you want to shorten their names."
   ]
  },
  {
   "cell_type": "code",
   "execution_count": 60,
   "id": "cf3ecde6",
   "metadata": {},
   "outputs": [
    {
     "name": "stdout",
     "output_type": "stream",
     "text": [
      "9\n",
      "20\n",
      "5.0\n"
     ]
    }
   ],
   "source": [
    "from M5B import sum as s, mul as m, div as d\n",
    "\n",
    "# Using the alias names\n",
    "print(s(4, 5))  # Output: 9\n",
    "print(m(4, 5))  # Output: 20\n",
    "print(d(10, 2)) # Output: 5.0"
   ]
  },
  {
   "cell_type": "markdown",
   "id": "46891297",
   "metadata": {},
   "source": [
    "### import M5B: Imports the entire M5B module.\n",
    "### from M5B import sum, mul, div: Imports specific functions.\n",
    "### from M5B import  * : Imports all functions (use cautiously).\n",
    "### import M5B as alias: Imports the module with an alias.\n",
    "### from M5B import sum as alias, mul as alias, div as alias: Imports specific functions with an alias."
   ]
  },
  {
   "cell_type": "markdown",
   "id": "956525d7",
   "metadata": {},
   "source": [
    "## Math Module\n",
    "## The math module provides mathematical functions."
   ]
  },
  {
   "cell_type": "code",
   "execution_count": 62,
   "id": "a65bfa29",
   "metadata": {},
   "outputs": [],
   "source": [
    "import math"
   ]
  },
  {
   "cell_type": "code",
   "execution_count": 63,
   "id": "63b612db",
   "metadata": {},
   "outputs": [],
   "source": [
    "# Define a number\n",
    "number = 25"
   ]
  },
  {
   "cell_type": "code",
   "execution_count": 64,
   "id": "28dfa8cc",
   "metadata": {},
   "outputs": [
    {
     "name": "stdout",
     "output_type": "stream",
     "text": [
      "Square root of 25 is: 5.0\n"
     ]
    }
   ],
   "source": [
    "# 1. Square root: Calculates the square root of 'number'.\n",
    "sqrt_result = math.sqrt(number)\n",
    "print(\"Square root of\", number, \"is:\", sqrt_result)"
   ]
  },
  {
   "cell_type": "code",
   "execution_count": 18,
   "id": "725efa82",
   "metadata": {},
   "outputs": [
    {
     "name": "stdout",
     "output_type": "stream",
     "text": [
      "2 raised to the power of 3 is: 8.0\n"
     ]
    }
   ],
   "source": [
    "# 2. Power (Exponential): Raises 'base' to the power of 'exponent'.\n",
    "base = 2\n",
    "exponent = 3\n",
    "power_result = math.pow(base, exponent)\n",
    "print(base, \"raised to the power of\", exponent, \"is:\", power_result)"
   ]
  },
  {
   "cell_type": "code",
   "execution_count": 19,
   "id": "103c6b91",
   "metadata": {},
   "outputs": [
    {
     "name": "stdout",
     "output_type": "stream",
     "text": [
      "Factorial of 5 is: 120\n"
     ]
    }
   ],
   "source": [
    "# 3. Factorial: Calculates the factorial of 5 (5! = 5*4*3*2*1).\n",
    "factorial_result = math.factorial(5)\n",
    "print(\"Factorial of 5 is:\", factorial_result)"
   ]
  },
  {
   "cell_type": "code",
   "execution_count": 20,
   "id": "2108376d",
   "metadata": {},
   "outputs": [
    {
     "name": "stdout",
     "output_type": "stream",
     "text": [
      "GCD of 60 and 48 is: 12\n"
     ]
    }
   ],
   "source": [
    "# 4. GCD (Greatest Common Divisor): Finds the largest number that divides both 60 and 48 without leaving a remainder.\n",
    "gcd_result = math.gcd(60, 48)\n",
    "print(\"GCD of 60 and 48 is:\", gcd_result)"
   ]
  },
  {
   "cell_type": "code",
   "execution_count": 36,
   "id": "3f1fc3a1",
   "metadata": {},
   "outputs": [
    {
     "name": "stdout",
     "output_type": "stream",
     "text": [
      "sin(90 degrees) is: 1.0\n",
      "cos(90 degrees) is: 0.0\n"
     ]
    }
   ],
   "source": [
    "# 5. Trigonometric functions (sin, cos, tan): Calculates the sine, cosine, and tangent of 90 degrees.\n",
    "# The angle must be converted from degrees to radians.\n",
    "angle = math.radians(90)  # Convert degrees to radians\n",
    "sin_result = math.sin(angle)\n",
    "cos_result = math.cos(angle)\n",
    "print(\"sin(90 degrees) is:\", sin_result)\n",
    "print(\"cos(90 degrees) is:\", round(cos_result,5))"
   ]
  },
  {
   "cell_type": "code",
   "execution_count": 22,
   "id": "be886fb9",
   "metadata": {},
   "outputs": [
    {
     "name": "stdout",
     "output_type": "stream",
     "text": [
      "Floor of 4.7 is: 4\n"
     ]
    }
   ],
   "source": [
    "# 6. Rounding down using floor: Rounds the number 4.7 down to the nearest whole number.\n",
    "floor_result = math.floor(4.7)\n",
    "print(\"Floor of 4.7 is:\", floor_result)"
   ]
  },
  {
   "cell_type": "code",
   "execution_count": 23,
   "id": "7913fc14",
   "metadata": {},
   "outputs": [
    {
     "name": "stdout",
     "output_type": "stream",
     "text": [
      "Ceil of 4.1 is: 5\n"
     ]
    }
   ],
   "source": [
    "# 7. Rounding up using ceil: Rounds the number 4.1 up to the nearest whole number.\n",
    "ceil_result = math.ceil(4.1)\n",
    "print(\"Ceil of 4.1 is:\", ceil_result)"
   ]
  },
  {
   "cell_type": "code",
   "execution_count": 24,
   "id": "4476e858",
   "metadata": {},
   "outputs": [
    {
     "name": "stdout",
     "output_type": "stream",
     "text": [
      "Natural logarithm of 2.7183 is: 1.0000066849139877\n"
     ]
    }
   ],
   "source": [
    "# 8. Natural logarithm: Calculates the natural logarithm (base e) of 2.7183.\n",
    "log_result = math.log(2.7183)  # Approximation of e\n",
    "print(\"Natural logarithm of 2.7183 is:\", log_result)"
   ]
  },
  {
   "cell_type": "code",
   "execution_count": 25,
   "id": "e3a7324e",
   "metadata": {},
   "outputs": [
    {
     "name": "stdout",
     "output_type": "stream",
     "text": [
      "Logarithm base 10 of 100 is: 2.0\n"
     ]
    }
   ],
   "source": [
    "# 9. Logarithm base 10: Calculates the logarithm of 100 with base 10.\n",
    "log10_result = math.log10(100)\n",
    "print(\"Logarithm base 10 of 100 is:\", log10_result)"
   ]
  },
  {
   "cell_type": "code",
   "execution_count": 26,
   "id": "1aa3350b",
   "metadata": {},
   "outputs": [
    {
     "name": "stdout",
     "output_type": "stream",
     "text": [
      "Absolute value of -10 is: 10.0\n"
     ]
    }
   ],
   "source": [
    "# 10. Absolute value: Returns the absolute value of -10 (i.e., removes the negative sign).\n",
    "absolute_result = math.fabs(-10)\n",
    "print(\"Absolute value of -10 is:\", absolute_result)"
   ]
  },
  {
   "cell_type": "code",
   "execution_count": 27,
   "id": "e559d4ae",
   "metadata": {},
   "outputs": [
    {
     "name": "stdout",
     "output_type": "stream",
     "text": [
      "180 degrees in radians is: 180.0\n"
     ]
    }
   ],
   "source": [
    "# 11. Radians to degrees: Converts the value of π radians into degrees.\n",
    "degrees_result = math.degrees(math.pi)\n",
    "print(\"180 degrees in radians is:\", degrees_result)"
   ]
  },
  {
   "cell_type": "markdown",
   "id": "ba895c44",
   "metadata": {},
   "source": [
    "# RANDOM MODULE"
   ]
  },
  {
   "cell_type": "code",
   "execution_count": 37,
   "id": "dc12fe1d",
   "metadata": {},
   "outputs": [],
   "source": [
    "import random"
   ]
  },
  {
   "cell_type": "code",
   "execution_count": 38,
   "id": "2b7004e4",
   "metadata": {},
   "outputs": [
    {
     "name": "stdout",
     "output_type": "stream",
     "text": [
      "Random float between 0.0 and 1.0: 0.21391524970693354\n"
     ]
    }
   ],
   "source": [
    "# 1. Generate a random float between 0.0 and 1.0\n",
    "random_float = random.random()\n",
    "print(\"Random float between 0.0 and 1.0:\", random_float)"
   ]
  },
  {
   "cell_type": "code",
   "execution_count": 39,
   "id": "2a4c352f",
   "metadata": {},
   "outputs": [
    {
     "name": "stdout",
     "output_type": "stream",
     "text": [
      "Random integer between 1 and 10: 5\n"
     ]
    }
   ],
   "source": [
    "# 2. Generate a random integer between two specified numbers (inclusive)\n",
    "random_int = random.randint(1, 10)  # Both 1 and 10 are included\n",
    "print(\"Random integer between 1 and 10:\", random_int)"
   ]
  },
  {
   "cell_type": "code",
   "execution_count": 40,
   "id": "ec001fd2",
   "metadata": {},
   "outputs": [
    {
     "name": "stdout",
     "output_type": "stream",
     "text": [
      "Random integer from range 1 to 9: 4\n"
     ]
    }
   ],
   "source": [
    "# 3. Generate a random integer from a specified range (excluding the stop value)\n",
    "random_range = random.randrange(1, 10)  # 10 is not included\n",
    "print(\"Random integer from range 1 to 9:\", random_range)"
   ]
  },
  {
   "cell_type": "code",
   "execution_count": 41,
   "id": "09771aca",
   "metadata": {},
   "outputs": [
    {
     "name": "stdout",
     "output_type": "stream",
     "text": [
      "Random choice from the list of colors: blue\n"
     ]
    }
   ],
   "source": [
    "# 4. Choose a random element from a sequence (e.g., list)\n",
    "colors = ['red', 'blue', 'green', 'yellow']\n",
    "random_choice = random.choice(colors)\n",
    "print(\"Random choice from the list of colors:\", random_choice)"
   ]
  },
  {
   "cell_type": "code",
   "execution_count": 42,
   "id": "45a2948c",
   "metadata": {},
   "outputs": [
    {
     "name": "stdout",
     "output_type": "stream",
     "text": [
      "Multiple random choices from the list of colors: ['green', 'blue', 'yellow']\n"
     ]
    }
   ],
   "source": [
    "# 5. Choose multiple random elements from a sequence (with replacement)\n",
    "random_choices = random.choices(colors, k=3)\n",
    "print(\"Multiple random choices from the list of colors:\", random_choices)"
   ]
  },
  {
   "cell_type": "code",
   "execution_count": 43,
   "id": "ee684e04",
   "metadata": {},
   "outputs": [
    {
     "name": "stdout",
     "output_type": "stream",
     "text": [
      "Random sample from the list of colors (no replacement): ['blue', 'green', 'red']\n"
     ]
    }
   ],
   "source": [
    "# 6. Choose multiple random elements from a sequence (without replacement)\n",
    "random_sample = random.sample(colors, k=3)\n",
    "print(\"Random sample from the list of colors (no replacement):\", random_sample)"
   ]
  },
  {
   "cell_type": "code",
   "execution_count": 44,
   "id": "de759544",
   "metadata": {},
   "outputs": [
    {
     "name": "stdout",
     "output_type": "stream",
     "text": [
      "Shuffled list of colors: ['yellow', 'blue', 'red', 'green']\n"
     ]
    }
   ],
   "source": [
    "# 7. Shuffle the elements of a list in place\n",
    "random.shuffle(colors)\n",
    "print(\"Shuffled list of colors:\", colors)"
   ]
  },
  {
   "cell_type": "code",
   "execution_count": 45,
   "id": "723672dc",
   "metadata": {},
   "outputs": [
    {
     "name": "stdout",
     "output_type": "stream",
     "text": [
      "Random float between 5.0 and 10.0: 6.841519512131544\n"
     ]
    }
   ],
   "source": [
    "# 8. Generate a random float within a specified range\n",
    "random_uniform = random.uniform(5.0, 10.0)  # Can include any value between 5.0 and 10.0\n",
    "print(\"Random float between 5.0 and 10.0:\", random_uniform)"
   ]
  },
  {
   "cell_type": "code",
   "execution_count": 46,
   "id": "1902baf2",
   "metadata": {},
   "outputs": [
    {
     "name": "stdout",
     "output_type": "stream",
     "text": [
      "Random number with Gaussian distribution (mean=0, std=1): -0.2731149383337138\n"
     ]
    }
   ],
   "source": [
    "# 9. Generate a random number following a Gaussian distribution (mean = 0, standard deviation = 1)\n",
    "random_gauss = random.gauss(0, 1)\n",
    "print(\"Random number with Gaussian distribution (mean=0, std=1):\", random_gauss)"
   ]
  },
  {
   "cell_type": "code",
   "execution_count": null,
   "id": "2f827b4f",
   "metadata": {},
   "outputs": [],
   "source": []
  },
  {
   "cell_type": "code",
   "execution_count": null,
   "id": "37e7fe50",
   "metadata": {},
   "outputs": [],
   "source": []
  },
  {
   "cell_type": "code",
   "execution_count": null,
   "id": "4040f32e",
   "metadata": {},
   "outputs": [],
   "source": []
  },
  {
   "cell_type": "code",
   "execution_count": null,
   "id": "81bb0be5",
   "metadata": {},
   "outputs": [],
   "source": []
  },
  {
   "cell_type": "code",
   "execution_count": null,
   "id": "5a5aad07",
   "metadata": {},
   "outputs": [],
   "source": []
  }
 ],
 "metadata": {
  "kernelspec": {
   "display_name": "Python 3 (ipykernel)",
   "language": "python",
   "name": "python3"
  },
  "language_info": {
   "codemirror_mode": {
    "name": "ipython",
    "version": 3
   },
   "file_extension": ".py",
   "mimetype": "text/x-python",
   "name": "python",
   "nbconvert_exporter": "python",
   "pygments_lexer": "ipython3",
   "version": "3.11.3"
  }
 },
 "nbformat": 4,
 "nbformat_minor": 5
}
