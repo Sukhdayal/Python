{
 "cells": [
  {
   "cell_type": "markdown",
   "id": "f564d04c",
   "metadata": {},
   "source": [
    "# imports the entire M5B module"
   ]
  },
  {
   "cell_type": "code",
   "execution_count": 8,
   "id": "2343c268",
   "metadata": {},
   "outputs": [],
   "source": [
    "import M5B"
   ]
  },
  {
   "cell_type": "code",
   "execution_count": 9,
   "id": "bb739032",
   "metadata": {},
   "outputs": [
    {
     "name": "stdout",
     "output_type": "stream",
     "text": [
      "7 12 0.75\n"
     ]
    }
   ],
   "source": [
    "result1 = M5B.sum(3, 4)\n",
    "result2 = M5B.mul(3, 4)\n",
    "result3 = M5B.div(3, 4)\n",
    "print(result1,result2,result3)  # Output: 7"
   ]
  },
  {
   "cell_type": "markdown",
   "id": "85de1c04",
   "metadata": {},
   "source": [
    "# import all functions"
   ]
  },
  {
   "cell_type": "code",
   "execution_count": 8,
   "id": "c39c5454",
   "metadata": {},
   "outputs": [
    {
     "name": "stdout",
     "output_type": "stream",
     "text": [
      "5 6\n"
     ]
    }
   ],
   "source": [
    "from M5B import *\n",
    "\n",
    "q1 = M5B.sum(2,3)\n",
    "q2 = M5B.mul(2,3)\n",
    "\n",
    "print(q1,q2)"
   ]
  },
  {
   "cell_type": "markdown",
   "id": "3370214d",
   "metadata": {},
   "source": [
    "# imports the module with an alias"
   ]
  },
  {
   "cell_type": "code",
   "execution_count": 1,
   "id": "22c30d61",
   "metadata": {},
   "outputs": [
    {
     "name": "stdout",
     "output_type": "stream",
     "text": [
      "15 36\n"
     ]
    }
   ],
   "source": [
    "import M5B as m \n",
    "\n",
    "q1 = m.sum(12,3)\n",
    "q2 = m.mul(12,3)\n",
    "\n",
    "print(q1,q2)"
   ]
  },
  {
   "cell_type": "markdown",
   "id": "eadf56c6",
   "metadata": {},
   "source": [
    "# importing a particular function"
   ]
  },
  {
   "cell_type": "code",
   "execution_count": 4,
   "id": "7e7f5772",
   "metadata": {},
   "outputs": [
    {
     "name": "stdout",
     "output_type": "stream",
     "text": [
      "4.0\n"
     ]
    }
   ],
   "source": [
    "from M5B import div\n",
    "\n",
    "q1 = M5B.div(12,3)\n",
    "\n",
    "print(q1)"
   ]
  },
  {
   "cell_type": "markdown",
   "id": "c6e3c226",
   "metadata": {},
   "source": [
    "# importing a particular function with alias"
   ]
  },
  {
   "cell_type": "code",
   "execution_count": 7,
   "id": "490ddc34",
   "metadata": {},
   "outputs": [
    {
     "name": "stdout",
     "output_type": "stream",
     "text": [
      "7\n",
      "12\n",
      "4.0\n"
     ]
    }
   ],
   "source": [
    "from M5B import sum as s, mul as m, div as d\n",
    "\n",
    "print(s(4,3))\n",
    "print(m(4,3))\n",
    "print(d(12,3))"
   ]
  },
  {
   "cell_type": "code",
   "execution_count": null,
   "id": "b83e3e01",
   "metadata": {},
   "outputs": [],
   "source": []
  },
  {
   "cell_type": "code",
   "execution_count": null,
   "id": "e2c4e399",
   "metadata": {},
   "outputs": [],
   "source": []
  },
  {
   "cell_type": "code",
   "execution_count": null,
   "id": "3f225379",
   "metadata": {},
   "outputs": [],
   "source": []
  }
 ],
 "metadata": {
  "kernelspec": {
   "display_name": "Python 3 (ipykernel)",
   "language": "python",
   "name": "python3"
  },
  "language_info": {
   "codemirror_mode": {
    "name": "ipython",
    "version": 3
   },
   "file_extension": ".py",
   "mimetype": "text/x-python",
   "name": "python",
   "nbconvert_exporter": "python",
   "pygments_lexer": "ipython3",
   "version": "3.11.3"
  }
 },
 "nbformat": 4,
 "nbformat_minor": 5
}
