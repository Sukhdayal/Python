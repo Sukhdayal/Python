{
 "cells": [
  {
   "cell_type": "markdown",
   "id": "e9f0100d",
   "metadata": {},
   "source": [
    "# This program will generate a ZeroDivisionError if the user inputs 0"
   ]
  },
  {
   "cell_type": "code",
   "execution_count": 4,
   "id": "3756a29b",
   "metadata": {},
   "outputs": [
    {
     "ename": "ZeroDivisionError",
     "evalue": "division by zero",
     "output_type": "error",
     "traceback": [
      "\u001b[1;31m---------------------------------------------------------------------------\u001b[0m",
      "\u001b[1;31mZeroDivisionError\u001b[0m                         Traceback (most recent call last)",
      "Cell \u001b[1;32mIn[4], line 2\u001b[0m\n\u001b[0;32m      1\u001b[0m \u001b[38;5;66;03m# number = int(input(\"Enter a number: \"))\u001b[39;00m\n\u001b[1;32m----> 2\u001b[0m result \u001b[38;5;241m=\u001b[39m \u001b[38;5;241m10\u001b[39m \u001b[38;5;241m/\u001b[39m number  \u001b[38;5;66;03m# This line will cause an error if number is 0\u001b[39;00m\n\u001b[0;32m      3\u001b[0m \u001b[38;5;28mprint\u001b[39m(\u001b[38;5;124m\"\u001b[39m\u001b[38;5;124mResult is:\u001b[39m\u001b[38;5;124m\"\u001b[39m, result)\n",
      "\u001b[1;31mZeroDivisionError\u001b[0m: division by zero"
     ]
    }
   ],
   "source": [
    "# number = int(input(\"Enter a number: \"))\n",
    "result = 10 / number  # This line will cause an error if number is 0\n",
    "print(\"Result is:\", result)"
   ]
  },
  {
   "cell_type": "markdown",
   "id": "78ddd9bb",
   "metadata": {},
   "source": [
    "# Exception Handling"
   ]
  },
  {
   "cell_type": "code",
   "execution_count": 2,
   "id": "b46f2108",
   "metadata": {},
   "outputs": [
    {
     "name": "stdout",
     "output_type": "stream",
     "text": [
      "Enter a number: 0\n",
      "Cannot divide by zero.\n",
      "Program finished.\n"
     ]
    }
   ],
   "source": [
    "try:\n",
    "    # Code that might cause an error\n",
    "    number = int(input(\"Enter a number: \"))\n",
    "    result = 10 / number\n",
    "except ValueError:\n",
    "    # This block runs if there's a ValueError (e.g., if the input is not a number)\n",
    "    print(\"Please enter a valid number.\")\n",
    "except ZeroDivisionError:\n",
    "    # This block runs if there's a ZeroDivisionError (e.g., if the user enters 0)\n",
    "    print(\"Cannot divide by zero.\")\n",
    "else:\n",
    "    # This block runs if no errors occur\n",
    "    print(\"Result is:\", result)\n",
    "finally:\n",
    "    # This block always runs\n",
    "    print(\"Program finished.\")"
   ]
  },
  {
   "cell_type": "code",
   "execution_count": null,
   "id": "3fc2f37d",
   "metadata": {},
   "outputs": [],
   "source": []
  },
  {
   "cell_type": "markdown",
   "id": "e51dda55",
   "metadata": {},
   "source": [
    "# This program will generate a ValueError if the user inputs something that is not a number"
   ]
  },
  {
   "cell_type": "code",
   "execution_count": 7,
   "id": "b1cee499",
   "metadata": {},
   "outputs": [
    {
     "name": "stdout",
     "output_type": "stream",
     "text": [
      "Enter a number: erorr\n"
     ]
    },
    {
     "ename": "ValueError",
     "evalue": "invalid literal for int() with base 10: 'erorr'",
     "output_type": "error",
     "traceback": [
      "\u001b[1;31m---------------------------------------------------------------------------\u001b[0m",
      "\u001b[1;31mValueError\u001b[0m                                Traceback (most recent call last)",
      "Cell \u001b[1;32mIn[7], line 1\u001b[0m\n\u001b[1;32m----> 1\u001b[0m number \u001b[38;5;241m=\u001b[39m \u001b[38;5;28mint\u001b[39m(\u001b[38;5;28minput\u001b[39m(\u001b[38;5;124m\"\u001b[39m\u001b[38;5;124mEnter a number: \u001b[39m\u001b[38;5;124m\"\u001b[39m))  \u001b[38;5;66;03m# This line will cause an error if the input is not a number\u001b[39;00m\n\u001b[0;32m      2\u001b[0m result \u001b[38;5;241m=\u001b[39m \u001b[38;5;241m10\u001b[39m \u001b[38;5;241m/\u001b[39m number\n\u001b[0;32m      3\u001b[0m \u001b[38;5;28mprint\u001b[39m(\u001b[38;5;124m\"\u001b[39m\u001b[38;5;124mResult is:\u001b[39m\u001b[38;5;124m\"\u001b[39m, result)\n",
      "\u001b[1;31mValueError\u001b[0m: invalid literal for int() with base 10: 'erorr'"
     ]
    }
   ],
   "source": [
    "number = int(input(\"Enter a number: \"))  # This line will cause an error if the input is not a number\n",
    "result = 10 / number\n",
    "print(\"Result is:\", result)"
   ]
  },
  {
   "cell_type": "markdown",
   "id": "f57eb591",
   "metadata": {},
   "source": [
    "# Exception Handling"
   ]
  },
  {
   "cell_type": "code",
   "execution_count": 6,
   "id": "6d379966",
   "metadata": {},
   "outputs": [
    {
     "name": "stdout",
     "output_type": "stream",
     "text": [
      "Enter a number: run\n",
      "Error: Please enter a valid number.\n",
      "Program finished.\n"
     ]
    }
   ],
   "source": [
    "try:\n",
    "    # Try to execute this block of code\n",
    "    number = int(input(\"Enter a number: \"))  # This might cause a ValueError\n",
    "    result = 10 / number  # This might cause a ZeroDivisionError\n",
    "    print(\"Result is:\", result)\n",
    "except ValueError:\n",
    "    # This block will execute if a ValueError occurs\n",
    "    print(\"Error: Please enter a valid number.\")\n",
    "except ZeroDivisionError:\n",
    "    # This block will execute if a ZeroDivisionError occurs\n",
    "    print(\"Error: Division by zero is not allowed.\")\n",
    "else:\n",
    "    # This block will run if no exceptions occur\n",
    "    print(\"The operation was successful!\")\n",
    "finally:\n",
    "    # This block will always run, regardless of what happened before\n",
    "    print(\"Program finished.\")\n"
   ]
  },
  {
   "cell_type": "markdown",
   "id": "7a9d7310",
   "metadata": {},
   "source": [
    "##### \n",
    "##### MemoryError\n",
    "##### ImportError "
   ]
  },
  {
   "cell_type": "markdown",
   "id": "2d10bcd7",
   "metadata": {},
   "source": [
    "# This program will generate a TypeError because it tries to add a string and an integer"
   ]
  },
  {
   "cell_type": "code",
   "execution_count": 8,
   "id": "8a801379",
   "metadata": {},
   "outputs": [
    {
     "ename": "TypeError",
     "evalue": "unsupported operand type(s) for +: 'int' and 'str'",
     "output_type": "error",
     "traceback": [
      "\u001b[1;31m---------------------------------------------------------------------------\u001b[0m",
      "\u001b[1;31mTypeError\u001b[0m                                 Traceback (most recent call last)",
      "Cell \u001b[1;32mIn[8], line 3\u001b[0m\n\u001b[0;32m      1\u001b[0m number \u001b[38;5;241m=\u001b[39m \u001b[38;5;241m5\u001b[39m\n\u001b[0;32m      2\u001b[0m text \u001b[38;5;241m=\u001b[39m \u001b[38;5;124m\"\u001b[39m\u001b[38;5;124mHello\u001b[39m\u001b[38;5;124m\"\u001b[39m\n\u001b[1;32m----> 3\u001b[0m result \u001b[38;5;241m=\u001b[39m number \u001b[38;5;241m+\u001b[39m text  \u001b[38;5;66;03m# This line will cause a TypeError\u001b[39;00m\n\u001b[0;32m      4\u001b[0m \u001b[38;5;28mprint\u001b[39m(\u001b[38;5;124m\"\u001b[39m\u001b[38;5;124mResult is:\u001b[39m\u001b[38;5;124m\"\u001b[39m, result)\n",
      "\u001b[1;31mTypeError\u001b[0m: unsupported operand type(s) for +: 'int' and 'str'"
     ]
    }
   ],
   "source": [
    "number = 5\n",
    "text = \"Hello\"\n",
    "result = number + text  # This line will cause a TypeError\n",
    "print(\"Result is:\", result)"
   ]
  },
  {
   "cell_type": "code",
   "execution_count": 9,
   "id": "6e2cdc70",
   "metadata": {},
   "outputs": [
    {
     "name": "stdout",
     "output_type": "stream",
     "text": [
      "Error: You cannot add an integer to a string.\n",
      "Program finished.\n"
     ]
    }
   ],
   "source": [
    "try:\n",
    "    # Try to execute this block of code\n",
    "    number = 5\n",
    "    text = \"Hello\"\n",
    "    result = number + text  # This might cause a TypeError\n",
    "except TypeError:\n",
    "    # This block will execute if a TypeError occurs\n",
    "    print(\"Error: You cannot add an integer to a string.\")\n",
    "else:\n",
    "    # This block will run if no exceptions occur\n",
    "    print(\"Result is:\", result)\n",
    "finally:\n",
    "    # This block will always run, regardless of what happened before\n",
    "    print(\"Program finished.\")"
   ]
  },
  {
   "cell_type": "markdown",
   "id": "b6b4c84b",
   "metadata": {},
   "source": [
    "# This program will generate an IndexError if you try to access an invalid index in the list"
   ]
  },
  {
   "cell_type": "code",
   "execution_count": 10,
   "id": "836ffce4",
   "metadata": {},
   "outputs": [
    {
     "ename": "IndexError",
     "evalue": "list index out of range",
     "output_type": "error",
     "traceback": [
      "\u001b[1;31m---------------------------------------------------------------------------\u001b[0m",
      "\u001b[1;31mIndexError\u001b[0m                                Traceback (most recent call last)",
      "Cell \u001b[1;32mIn[10], line 2\u001b[0m\n\u001b[0;32m      1\u001b[0m my_list \u001b[38;5;241m=\u001b[39m [\u001b[38;5;241m1\u001b[39m, \u001b[38;5;241m2\u001b[39m, \u001b[38;5;241m3\u001b[39m]\n\u001b[1;32m----> 2\u001b[0m \u001b[38;5;28mprint\u001b[39m(my_list[\u001b[38;5;241m5\u001b[39m])\n",
      "\u001b[1;31mIndexError\u001b[0m: list index out of range"
     ]
    }
   ],
   "source": [
    "my_list = [1, 2, 3]\n",
    "print(my_list[5])  # This line will cause an IndexError because index 5 does not exist in the list"
   ]
  },
  {
   "cell_type": "code",
   "execution_count": 11,
   "id": "8ae326db",
   "metadata": {},
   "outputs": [
    {
     "name": "stdout",
     "output_type": "stream",
     "text": [
      "Error: Tried to access an index that doesn't exist.\n",
      "Program finished.\n"
     ]
    }
   ],
   "source": [
    "try:\n",
    "    # Try to access an element at an index that might not exist\n",
    "    my_list = [1, 2, 3]\n",
    "    print(my_list[5])  # This might cause an IndexError\n",
    "except IndexError:\n",
    "    # This block will execute if an IndexError occurs\n",
    "    print(\"Error: Tried to access an index that doesn't exist.\")\n",
    "finally:\n",
    "    # This block will always run\n",
    "    print(\"Program finished.\")"
   ]
  },
  {
   "cell_type": "markdown",
   "id": "8f939dc9",
   "metadata": {},
   "source": [
    "# This program will generate a NameError because 'x' is not defined"
   ]
  },
  {
   "cell_type": "code",
   "execution_count": 12,
   "id": "d927603b",
   "metadata": {},
   "outputs": [
    {
     "ename": "NameError",
     "evalue": "name 'x' is not defined",
     "output_type": "error",
     "traceback": [
      "\u001b[1;31m---------------------------------------------------------------------------\u001b[0m",
      "\u001b[1;31mNameError\u001b[0m                                 Traceback (most recent call last)",
      "Cell \u001b[1;32mIn[12], line 1\u001b[0m\n\u001b[1;32m----> 1\u001b[0m \u001b[38;5;28mprint\u001b[39m(x)\n",
      "\u001b[1;31mNameError\u001b[0m: name 'x' is not defined"
     ]
    }
   ],
   "source": [
    "print(x)  # This line will cause a NameError"
   ]
  },
  {
   "cell_type": "code",
   "execution_count": 14,
   "id": "ccb6da8e",
   "metadata": {},
   "outputs": [
    {
     "name": "stdout",
     "output_type": "stream",
     "text": [
      "Error: The variable 'x' is not defined.\n",
      "Program finished.\n"
     ]
    }
   ],
   "source": [
    "try:\n",
    "    # Try to execute this block of code\n",
    "    print(x)  # This will cause a NameError\n",
    "except NameError:\n",
    "    # This block will execute if a NameError occurs\n",
    "    print(\"Error: The variable 'x' is not defined.\")\n",
    "else:\n",
    "    # This block will run if no exceptions occur\n",
    "    print(\"The operation was successful!\")\n",
    "finally:\n",
    "    # This block will always run, regardless of what happened before\n",
    "    print(\"Program finished.\")"
   ]
  },
  {
   "cell_type": "markdown",
   "id": "55c91dd8",
   "metadata": {},
   "source": [
    "# This program will generate an AttributeError"
   ]
  },
  {
   "cell_type": "code",
   "execution_count": 15,
   "id": "c44bacaf",
   "metadata": {},
   "outputs": [
    {
     "ename": "AttributeError",
     "evalue": "'str' object has no attribute 'append'",
     "output_type": "error",
     "traceback": [
      "\u001b[1;31m---------------------------------------------------------------------------\u001b[0m",
      "\u001b[1;31mAttributeError\u001b[0m                            Traceback (most recent call last)",
      "Cell \u001b[1;32mIn[15], line 2\u001b[0m\n\u001b[0;32m      1\u001b[0m text \u001b[38;5;241m=\u001b[39m \u001b[38;5;124m\"\u001b[39m\u001b[38;5;124mhello\u001b[39m\u001b[38;5;124m\"\u001b[39m\n\u001b[1;32m----> 2\u001b[0m text\u001b[38;5;241m.\u001b[39mappend(\u001b[38;5;124m\"\u001b[39m\u001b[38;5;124mworld\u001b[39m\u001b[38;5;124m\"\u001b[39m)\n",
      "\u001b[1;31mAttributeError\u001b[0m: 'str' object has no attribute 'append'"
     ]
    }
   ],
   "source": [
    "text = \"hello\"\n",
    "text.append(\"world\")  # This line will cause an AttributeError because 'str' objects don't have an 'append' method"
   ]
  },
  {
   "cell_type": "code",
   "execution_count": 16,
   "id": "5cdc2c59",
   "metadata": {},
   "outputs": [
    {
     "name": "stdout",
     "output_type": "stream",
     "text": [
      "Error: 'append' method does not exist for strings. Did you mean to use a list?\n",
      "Program finished.\n"
     ]
    }
   ],
   "source": [
    "try:\n",
    "    # Try to execute this block of code\n",
    "    text = \"hello\"\n",
    "    text.append(\"world\")  # This might cause an AttributeError\n",
    "except AttributeError:\n",
    "    # This block will execute if an AttributeError occurs\n",
    "    print(\"Error: 'append' method does not exist for strings. Did you mean to use a list?\")\n",
    "else:\n",
    "    # This block will run if no exceptions occur\n",
    "    print(\"Text after append:\", text)\n",
    "finally:\n",
    "    # This block will always run, regardless of what happened before\n",
    "    print(\"Program finished.\")"
   ]
  },
  {
   "cell_type": "markdown",
   "id": "6b945e03",
   "metadata": {},
   "source": [
    "# This program will generate an IOError if the file does not exist"
   ]
  },
  {
   "cell_type": "code",
   "execution_count": 17,
   "id": "16891494",
   "metadata": {},
   "outputs": [
    {
     "ename": "FileNotFoundError",
     "evalue": "[Errno 2] No such file or directory: 'non_existent_file.txt'",
     "output_type": "error",
     "traceback": [
      "\u001b[1;31m---------------------------------------------------------------------------\u001b[0m",
      "\u001b[1;31mFileNotFoundError\u001b[0m                         Traceback (most recent call last)",
      "Cell \u001b[1;32mIn[17], line 2\u001b[0m\n\u001b[0;32m      1\u001b[0m filename \u001b[38;5;241m=\u001b[39m \u001b[38;5;124m\"\u001b[39m\u001b[38;5;124mnon_existent_file.txt\u001b[39m\u001b[38;5;124m\"\u001b[39m\n\u001b[1;32m----> 2\u001b[0m file \u001b[38;5;241m=\u001b[39m \u001b[38;5;28mopen\u001b[39m(filename, \u001b[38;5;124m\"\u001b[39m\u001b[38;5;124mr\u001b[39m\u001b[38;5;124m\"\u001b[39m)  \u001b[38;5;66;03m# This line will cause an IOError if the file doesn't exist\u001b[39;00m\n\u001b[0;32m      3\u001b[0m content \u001b[38;5;241m=\u001b[39m file\u001b[38;5;241m.\u001b[39mread()\n\u001b[0;32m      4\u001b[0m \u001b[38;5;28mprint\u001b[39m(content)\n",
      "File \u001b[1;32mC:\\ProgramData\\anaconda3\\Lib\\site-packages\\IPython\\core\\interactiveshell.py:284\u001b[0m, in \u001b[0;36m_modified_open\u001b[1;34m(file, *args, **kwargs)\u001b[0m\n\u001b[0;32m    277\u001b[0m \u001b[38;5;28;01mif\u001b[39;00m file \u001b[38;5;129;01min\u001b[39;00m {\u001b[38;5;241m0\u001b[39m, \u001b[38;5;241m1\u001b[39m, \u001b[38;5;241m2\u001b[39m}:\n\u001b[0;32m    278\u001b[0m     \u001b[38;5;28;01mraise\u001b[39;00m \u001b[38;5;167;01mValueError\u001b[39;00m(\n\u001b[0;32m    279\u001b[0m         \u001b[38;5;124mf\u001b[39m\u001b[38;5;124m\"\u001b[39m\u001b[38;5;124mIPython won\u001b[39m\u001b[38;5;124m'\u001b[39m\u001b[38;5;124mt let you open fd=\u001b[39m\u001b[38;5;132;01m{\u001b[39;00mfile\u001b[38;5;132;01m}\u001b[39;00m\u001b[38;5;124m by default \u001b[39m\u001b[38;5;124m\"\u001b[39m\n\u001b[0;32m    280\u001b[0m         \u001b[38;5;124m\"\u001b[39m\u001b[38;5;124mas it is likely to crash IPython. If you know what you are doing, \u001b[39m\u001b[38;5;124m\"\u001b[39m\n\u001b[0;32m    281\u001b[0m         \u001b[38;5;124m\"\u001b[39m\u001b[38;5;124myou can use builtins\u001b[39m\u001b[38;5;124m'\u001b[39m\u001b[38;5;124m open.\u001b[39m\u001b[38;5;124m\"\u001b[39m\n\u001b[0;32m    282\u001b[0m     )\n\u001b[1;32m--> 284\u001b[0m \u001b[38;5;28;01mreturn\u001b[39;00m io_open(file, \u001b[38;5;241m*\u001b[39margs, \u001b[38;5;241m*\u001b[39m\u001b[38;5;241m*\u001b[39mkwargs)\n",
      "\u001b[1;31mFileNotFoundError\u001b[0m: [Errno 2] No such file or directory: 'non_existent_file.txt'"
     ]
    }
   ],
   "source": [
    "filename = \"non_existent_file.txt\"\n",
    "file = open(filename, \"r\")  # This line will cause an IOError if the file doesn't exist\n",
    "content = file.read()\n",
    "print(content)"
   ]
  },
  {
   "cell_type": "code",
   "execution_count": null,
   "id": "a703648c",
   "metadata": {},
   "outputs": [],
   "source": []
  }
 ],
 "metadata": {
  "kernelspec": {
   "display_name": "Python 3 (ipykernel)",
   "language": "python",
   "name": "python3"
  },
  "language_info": {
   "codemirror_mode": {
    "name": "ipython",
    "version": 3
   },
   "file_extension": ".py",
   "mimetype": "text/x-python",
   "name": "python",
   "nbconvert_exporter": "python",
   "pygments_lexer": "ipython3",
   "version": "3.11.3"
  }
 },
 "nbformat": 4,
 "nbformat_minor": 5
}
