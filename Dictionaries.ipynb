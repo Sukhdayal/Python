{
 "cells": [
  {
   "cell_type": "markdown",
   "id": "e1002770",
   "metadata": {},
   "source": [
    "# **Introduction to Dictionaries in Python**\n",
    "\n",
    "A **dictionary** in Python is a type of data structure that stores data in key-value pairs. Imagine a dictionary you use to find the meaning of words. In a physical dictionary, you look up a word (the key) to find its definition (the value). Similarly, in a Python dictionary, you use a key to find its associated value."
   ]
  },
  {
   "cell_type": "markdown",
   "id": "75131678",
   "metadata": {},
   "source": [
    "## **What is a Dictionary in Python?**\n",
    "\n",
    "- **Dictionary:** A collection of key-value pairs. Each key is unique, and it is used to access the corresponding value.\n",
    "- **Key-Value Pair:** A combination of a key and its associated value. For example, in the dictionary `{\"name\": \"Alice\"}`, \"name\" is the key, and \"Alice\" is the value."
   ]
  },
  {
   "cell_type": "markdown",
   "id": "a65a6702",
   "metadata": {},
   "source": [
    "## **Why Do We Use Dictionaries?**\n",
    "\n",
    "- **Quick Lookup:** Dictionaries allow for fast data retrieval. You can quickly find the value associated with a key without having to search through all the data.\n",
    "- **Organized Data:** Dictionaries help keep data organized by associating meaningful keys with their values, making it easier to understand and use the data."
   ]
  },
  {
   "cell_type": "markdown",
   "id": "8a71f450",
   "metadata": {},
   "source": [
    "## **Properties of Dictionaries**\n",
    "\n",
    "1. **Unordered:** Dictionaries do not maintain any specific order for the elements. The order of elements might change.\n",
    "2. **Mutable:** You can change the contents of a dictionary, such as adding, removing, or modifying key-value pairs.\n",
    "3. **Unique Keys:** Each key in a dictionary must be unique. You cannot have two keys with the same name in one dictionary.\n",
    "4. **Key Types:** Keys can be of various data types, such as strings, numbers, or tuples, but they must be immutable (unchangeable).\n",
    "5. **Value Types:** Values can be of any data type, including lists, strings, numbers, and even other dictionaries."
   ]
  },
  {
   "cell_type": "markdown",
   "id": "974dc207",
   "metadata": {},
   "source": [
    "## **Use of Dictionaries in Real-Time**\n",
    "\n",
    "- **Storing Data:** Dictionaries are often used to store data that can be quickly looked up using a key. For example, storing a student's name and their grades.\n",
    "- **Configurations:** Many programs use dictionaries to store settings or configuration options, where the key is the setting name, and the value is the setting's value.\n",
    "- **Mapping:** Dictionaries are useful for mapping or associating data, like associating a product code with its price."
   ]
  },
  {
   "cell_type": "markdown",
   "id": "708a9dd1",
   "metadata": {},
   "source": [
    "## **Advantages of Using Dictionaries**\n",
    "\n",
    "1. **Fast Data Access:** Quickly retrieve values using keys, which is faster than searching through a list.\n",
    "2. **Flexible Data Storage:** Store a wide variety of data types as values, making dictionaries very versatile.\n",
    "3. **Readability:** With clear key names, dictionaries make it easier to understand what each value represents."
   ]
  },
  {
   "cell_type": "markdown",
   "id": "6bfe0095",
   "metadata": {},
   "source": [
    "## **Disadvantages of Using Dictionaries**\n",
    "\n",
    "1. **Memory Usage:** Dictionaries can use more memory than other data structures like lists because they store keys along with values.\n",
    "2. **Unordered:** Since dictionaries do not maintain order, you cannot rely on the order of elements when processing data."
   ]
  },
  {
   "cell_type": "markdown",
   "id": "518f70a0",
   "metadata": {},
   "source": [
    "# **Example: Using a Dictionary in Python**"
   ]
  },
  {
   "cell_type": "code",
   "execution_count": 2,
   "id": "90e26473",
   "metadata": {},
   "outputs": [],
   "source": [
    "# Creating a dictionary to store a student's information\n",
    "student_info = {\n",
    "    \"name\": \"John\",\n",
    "    \"age\": 15,\n",
    "    \"grade\": \"10th\",\n",
    "    \"favorite_subject\": \"Math\"\n",
    "}"
   ]
  },
  {
   "cell_type": "code",
   "execution_count": 3,
   "id": "cf969acd",
   "metadata": {},
   "outputs": [
    {
     "name": "stdout",
     "output_type": "stream",
     "text": [
      "Name: John\n",
      "Grade: 10th\n"
     ]
    }
   ],
   "source": [
    "# Accessing values using keys\n",
    "print(\"Name:\", student_info[\"name\"])  # Output: John\n",
    "print(\"Grade:\", student_info[\"grade\"])  # Output: 10th"
   ]
  },
  {
   "cell_type": "markdown",
   "id": "054a0797",
   "metadata": {},
   "source": [
    "## Operations, Methods, and Other Features in Dictionaries"
   ]
  },
  {
   "cell_type": "markdown",
   "id": "66127d6e",
   "metadata": {},
   "source": [
    "### **Basic Operations with Dictionaries**"
   ]
  },
  {
   "cell_type": "markdown",
   "id": "1afd92b3",
   "metadata": {},
   "source": [
    "### 1. **Accessing Values:**\n",
    "   - You can access the value associated with a specific key in a dictionary using the key inside square brackets."
   ]
  },
  {
   "cell_type": "code",
   "execution_count": 4,
   "id": "a347841d",
   "metadata": {},
   "outputs": [
    {
     "name": "stdout",
     "output_type": "stream",
     "text": [
      "John\n"
     ]
    }
   ],
   "source": [
    "student_info = {\"name\": \"John\", \"age\": 15, \"grade\": \"10th\"}\n",
    "print(student_info[\"name\"])  # Output: John"
   ]
  },
  {
   "cell_type": "markdown",
   "id": "3bb3e6f7",
   "metadata": {},
   "source": [
    "### 2. **Adding or Updating Key-Value Pairs:**\n",
    "   - To add a new key-value pair or update an existing key's value, simply assign a value to the key.\n",
    "   \n",
    " "
   ]
  },
  {
   "cell_type": "code",
   "execution_count": 5,
   "id": "4ce1c264",
   "metadata": {},
   "outputs": [],
   "source": [
    "student_info[\"hobby\"] = \"Reading\"  # Adding a new key-value pair\n",
    "student_info[\"age\"] = 16  # Updating an existing key's value"
   ]
  },
  {
   "cell_type": "markdown",
   "id": "452716ca",
   "metadata": {},
   "source": [
    "### 3. **Removing Key-Value Pairs:**\n",
    "   - You can remove a key-value pair using the `del` keyword or the `pop()` method.   "
   ]
  },
  {
   "cell_type": "code",
   "execution_count": 6,
   "id": "6f66fde4",
   "metadata": {},
   "outputs": [
    {
     "data": {
      "text/plain": [
       "'Reading'"
      ]
     },
     "execution_count": 6,
     "metadata": {},
     "output_type": "execute_result"
    }
   ],
   "source": [
    "del student_info[\"age\"]  # Removes the \"age\" key-value pair\n",
    "# OR\n",
    "student_info.pop(\"hobby\")  # Removes the \"hobby\" key-value pair"
   ]
  },
  {
   "cell_type": "markdown",
   "id": "6541bd18",
   "metadata": {},
   "source": [
    "### 4. **Checking if a Key Exists:**\n",
    "   - You can check if a key exists in the dictionary using the `in` keyword."
   ]
  },
  {
   "cell_type": "code",
   "execution_count": 7,
   "id": "aa124165",
   "metadata": {},
   "outputs": [
    {
     "name": "stdout",
     "output_type": "stream",
     "text": [
      "Name is in the dictionary\n"
     ]
    }
   ],
   "source": [
    "if \"name\" in student_info:\n",
    "    print(\"Name is in the dictionary\")"
   ]
  },
  {
   "cell_type": "markdown",
   "id": "9382b777",
   "metadata": {},
   "source": [
    "### 5. **Length of the Dictionary:**\n",
    "   - The `len()` function returns the number of key-value pairs in a dictionary.\n",
    " "
   ]
  },
  {
   "cell_type": "code",
   "execution_count": 8,
   "id": "6588f93c",
   "metadata": {},
   "outputs": [
    {
     "name": "stdout",
     "output_type": "stream",
     "text": [
      "2\n"
     ]
    }
   ],
   "source": [
    "print(len(student_info))  # Output: 2 (after removing age and hobby)"
   ]
  },
  {
   "cell_type": "markdown",
   "id": "42d4be83",
   "metadata": {},
   "source": [
    "## **Common Methods in Dictionaries**"
   ]
  },
  {
   "cell_type": "markdown",
   "id": "a140b949",
   "metadata": {},
   "source": [
    "### 1. **`get()` Method:**\n",
    "   - The `get()` method retrieves the value for a given key. If the key doesn't exist, it returns `None` (or a default value if provided).\n",
    " "
   ]
  },
  {
   "cell_type": "code",
   "execution_count": 10,
   "id": "205f7162",
   "metadata": {},
   "outputs": [
    {
     "name": "stdout",
     "output_type": "stream",
     "text": [
      "John\n",
      "Not available\n"
     ]
    }
   ],
   "source": [
    "print(student_info.get(\"name\"))  # Output: John\n",
    "print(student_info.get(\"school\", \"Not available\"))  # Output: Not available "
   ]
  },
  {
   "cell_type": "markdown",
   "id": "f7516dfc",
   "metadata": {},
   "source": [
    "### 2. **`keys()` Method:**\n",
    "   - The `keys()` method returns a view object that displays a list of all the keys in the dictionary.\n",
    "   "
   ]
  },
  {
   "cell_type": "code",
   "execution_count": 15,
   "id": "31fe50b0",
   "metadata": {},
   "outputs": [
    {
     "name": "stdout",
     "output_type": "stream",
     "text": [
      "dict_keys(['age', 'school'])\n"
     ]
    }
   ],
   "source": [
    "print(student_info.keys())  # Output: dict_keys(['name', 'grade'])"
   ]
  },
  {
   "cell_type": "markdown",
   "id": "2e23773c",
   "metadata": {},
   "source": [
    "### 3. **`values()` Method:**\n",
    "   - The `values()` method returns a view object that displays a list of all the values in the dictionary.\n",
    "   "
   ]
  },
  {
   "cell_type": "code",
   "execution_count": 14,
   "id": "5f4f2ac3",
   "metadata": {},
   "outputs": [
    {
     "name": "stdout",
     "output_type": "stream",
     "text": [
      "dict_values([16, 'High School'])\n"
     ]
    }
   ],
   "source": [
    "print(student_info.values())  # Output: dict_values(['John', '10th'])"
   ]
  },
  {
   "cell_type": "markdown",
   "id": "5b85b78b",
   "metadata": {},
   "source": [
    "### 4. **`items()` Method:**\n",
    "   - The `items()` method returns a view object that displays a list of all the key-value pairs in the dictionary as tuples.\n",
    "   "
   ]
  },
  {
   "cell_type": "code",
   "execution_count": 13,
   "id": "a07d1e01",
   "metadata": {},
   "outputs": [
    {
     "name": "stdout",
     "output_type": "stream",
     "text": [
      "dict_items([('age', 16), ('school', 'High School')])\n"
     ]
    }
   ],
   "source": [
    "print(student_info.items())  # Output: dict_items([('name', 'John'), ('grade', '10th')])\n"
   ]
  },
  {
   "cell_type": "markdown",
   "id": "6101ae0d",
   "metadata": {},
   "source": [
    "### 5. **`update()` Method:**\n",
    "   - The `update()` method updates the dictionary with elements from another dictionary or an iterable of key-value pairs.\n",
    "   "
   ]
  },
  {
   "cell_type": "code",
   "execution_count": 12,
   "id": "f22a3ece",
   "metadata": {},
   "outputs": [
    {
     "name": "stdout",
     "output_type": "stream",
     "text": [
      "{'age': 16, 'school': 'High School'}\n"
     ]
    }
   ],
   "source": [
    "new_info = {\"age\": 16, \"school\": \"High School\"}\n",
    "student_info.update(new_info)\n",
    "print(student_info)\n",
    "# Output: {'name': 'John', 'grade': '10th', 'age': 16, 'school': 'High School'}"
   ]
  },
  {
   "cell_type": "markdown",
   "id": "9ff85113",
   "metadata": {},
   "source": [
    "### 6. **`clear()` Method:**\n",
    "   - The `clear()` method removes all the key-value pairs from the dictionary, leaving it empty.\n",
    "   "
   ]
  },
  {
   "cell_type": "code",
   "execution_count": 11,
   "id": "11418b9f",
   "metadata": {},
   "outputs": [
    {
     "name": "stdout",
     "output_type": "stream",
     "text": [
      "{}\n"
     ]
    }
   ],
   "source": [
    "student_info.clear()\n",
    "print(student_info)  # Output: {}"
   ]
  },
  {
   "cell_type": "markdown",
   "id": "a1826652",
   "metadata": {},
   "source": [
    "## **Conclusion**\n",
    "\n",
    "Dictionaries in Python are powerful tools for managing and accessing data efficiently. Understanding the operations and methods available for dictionaries allows you to handle data more effectively and perform a wide range of tasks. By mastering these concepts, you'll be better equipped to write clear and efficient code."
   ]
  },
  {
   "cell_type": "code",
   "execution_count": null,
   "id": "d7231a31",
   "metadata": {},
   "outputs": [],
   "source": []
  },
  {
   "cell_type": "markdown",
   "id": "06ea1124",
   "metadata": {},
   "source": [
    "# Write a program to demonstrate working with dictionaries in python."
   ]
  },
  {
   "cell_type": "code",
   "execution_count": 17,
   "id": "84c1a231",
   "metadata": {},
   "outputs": [],
   "source": [
    "# Creating a dictionary to store a student's information\n",
    "student_info = {\n",
    "    \"name\": \"Alice\",\n",
    "    \"age\": 14,\n",
    "    \"grade\": \"9th\",\n",
    "    \"favorite_subject\": \"Science\"\n",
    "}"
   ]
  },
  {
   "cell_type": "code",
   "execution_count": 18,
   "id": "78bac3d8",
   "metadata": {},
   "outputs": [
    {
     "name": "stdout",
     "output_type": "stream",
     "text": [
      "Name: Alice\n",
      "Favorite Subject: Science\n"
     ]
    }
   ],
   "source": [
    "# Accessing values using keys\n",
    "print(\"Name:\", student_info[\"name\"])  # Output: Alice\n",
    "print(\"Favorite Subject:\", student_info[\"favorite_subject\"])  # Output: Science"
   ]
  },
  {
   "cell_type": "code",
   "execution_count": 19,
   "id": "8c74e2c6",
   "metadata": {},
   "outputs": [
    {
     "name": "stdout",
     "output_type": "stream",
     "text": [
      "After adding hobby: {'name': 'Alice', 'age': 14, 'grade': '9th', 'favorite_subject': 'Science', 'hobby': 'Reading'}\n"
     ]
    }
   ],
   "source": [
    "# Adding a new key-value pair\n",
    "student_info[\"hobby\"] = \"Reading\"\n",
    "print(\"After adding hobby:\", student_info)"
   ]
  },
  {
   "cell_type": "code",
   "execution_count": 20,
   "id": "3f6c226b",
   "metadata": {},
   "outputs": [
    {
     "name": "stdout",
     "output_type": "stream",
     "text": [
      "After updating grade: {'name': 'Alice', 'age': 14, 'grade': '10th', 'favorite_subject': 'Science', 'hobby': 'Reading'}\n"
     ]
    }
   ],
   "source": [
    "# Updating an existing key-value pair\n",
    "student_info[\"grade\"] = \"10th\"\n",
    "print(\"After updating grade:\", student_info)"
   ]
  },
  {
   "cell_type": "code",
   "execution_count": 21,
   "id": "591446e6",
   "metadata": {},
   "outputs": [
    {
     "name": "stdout",
     "output_type": "stream",
     "text": [
      "After removing age: {'name': 'Alice', 'grade': '10th', 'favorite_subject': 'Science', 'hobby': 'Reading'}\n"
     ]
    }
   ],
   "source": [
    "# Removing a key-value pair\n",
    "del student_info[\"age\"]\n",
    "print(\"After removing age:\", student_info)"
   ]
  },
  {
   "cell_type": "code",
   "execution_count": 22,
   "id": "682cb1ff",
   "metadata": {},
   "outputs": [
    {
     "name": "stdout",
     "output_type": "stream",
     "text": [
      "School: Not available\n"
     ]
    }
   ],
   "source": [
    "# Using the get() method to access a value\n",
    "school = student_info.get(\"school\", \"Not available\")\n",
    "print(\"School:\", school)  # Output: Not available"
   ]
  },
  {
   "cell_type": "code",
   "execution_count": 23,
   "id": "5096d636",
   "metadata": {},
   "outputs": [
    {
     "name": "stdout",
     "output_type": "stream",
     "text": [
      "Keys: dict_keys(['name', 'grade', 'favorite_subject', 'hobby'])\n",
      "Values: dict_values(['Alice', '10th', 'Science', 'Reading'])\n",
      "Items: dict_items([('name', 'Alice'), ('grade', '10th'), ('favorite_subject', 'Science'), ('hobby', 'Reading')])\n"
     ]
    }
   ],
   "source": [
    "# Getting all keys, values, and items\n",
    "print(\"Keys:\", student_info.keys())  # Output: dict_keys(['name', 'grade', 'favorite_subject', 'hobby'])\n",
    "print(\"Values:\", student_info.values())  # Output: dict_values(['Alice', '10th', 'Science', 'Reading'])\n",
    "print(\"Items:\", student_info.items())  # Output: dict_items([('name', 'Alice'), ('grade', '10th'), ('favorite_subject', 'Science'), ('hobby', 'Reading')])"
   ]
  },
  {
   "cell_type": "code",
   "execution_count": 24,
   "id": "89bf1ac4",
   "metadata": {},
   "outputs": [
    {
     "name": "stdout",
     "output_type": "stream",
     "text": [
      "After clearing: {}\n"
     ]
    }
   ],
   "source": [
    "# Clearing the dictionary\n",
    "student_info.clear()\n",
    "print(\"After clearing:\", student_info)  # Output: {}"
   ]
  },
  {
   "cell_type": "markdown",
   "id": "91b7081d",
   "metadata": {},
   "source": [
    "### Explanation:\n",
    "\n",
    "1. **Creating a Dictionary:** We start by creating a dictionary called `student_info` that stores information about a student, such as name, age, grade, and favorite subject.\n",
    "\n",
    "2. **Accessing Values:** We access and print the values associated with specific keys, like \"name\" and \"favorite_subject.\"\n",
    "\n",
    "3. **Adding a New Key-Value Pair:** We add a new key-value pair for the student's hobby using the `student_info[\"hobby\"] = \"Reading\"` syntax.\n",
    "\n",
    "4. **Updating an Existing Key-Value Pair:** We update the student's grade by changing the value associated with the \"grade\" key.\n",
    "\n",
    "5. **Removing a Key-Value Pair:** We remove the key-value pair for \"age\" using the `del` keyword.\n",
    "\n",
    "6. **Using `get()` Method:** We use the `get()` method to safely access a value. If the key doesn't exist, it returns \"Not available\" instead of causing an error.\n",
    "\n",
    "7. **Getting Keys, Values, and Items:** We use the `keys()`, `values()`, and `items()` methods to get lists of all the keys, values, and key-value pairs in the dictionary.\n",
    "\n",
    "8. **Clearing the Dictionary:** Finally, we clear the dictionary using the `clear()` method, which removes all key-value pairs, leaving the dictionary empty."
   ]
  },
  {
   "cell_type": "code",
   "execution_count": null,
   "id": "def14785",
   "metadata": {},
   "outputs": [],
   "source": []
  }
 ],
 "metadata": {
  "kernelspec": {
   "display_name": "Python 3 (ipykernel)",
   "language": "python",
   "name": "python3"
  },
  "language_info": {
   "codemirror_mode": {
    "name": "ipython",
    "version": 3
   },
   "file_extension": ".py",
   "mimetype": "text/x-python",
   "name": "python",
   "nbconvert_exporter": "python",
   "pygments_lexer": "ipython3",
   "version": "3.11.3"
  }
 },
 "nbformat": 4,
 "nbformat_minor": 5
}
