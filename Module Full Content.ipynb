{
 "cells": [
  {
   "cell_type": "markdown",
   "id": "6a5088c7",
   "metadata": {},
   "source": [
    "# Modules"
   ]
  },
  {
   "cell_type": "markdown",
   "id": "774c96e2",
   "metadata": {},
   "source": [
    " 1) what is Modules \n",
    " 2) Features of Modules\n",
    " 3) Importing Modules \n",
    " 4) Importing Module Attributes\n",
    " 5) Module Built-in Functions\n",
    " 6) Namespaces\n",
    " 7) Packages"
   ]
  },
  {
   "cell_type": "markdown",
   "id": "cf34d614",
   "metadata": {},
   "source": [
    "# 1) what is Module"
   ]
  },
  {
   "cell_type": "markdown",
   "id": "032e3480",
   "metadata": {},
   "source": [
    " A **module** in programming is like a toolbox filled with specific tools (functions, classes, and variables) that you can use in your program. \n",
    "\n",
    "### Real-Life Example:\n",
    "Imagine you have a **kitchen**. In the kitchen, you have different **cabinets**. Each cabinet has a specific type of tool: \n",
    "\n",
    "- One cabinet has **spices** (this is like a module with all the ingredients you need to add flavor to your food).\n",
    "- Another cabinet has **cooking utensils** like spoons, knives, and pans (this is like a module with tools you need to prepare food).\n",
    "\n",
    "When you're cooking (writing a program), you can open the cabinet (import the module) and take out the tools you need (use the functions or variables) to make your dish (run your program).\n",
    "\n",
    "In programming, a **module** works the same way. It contains functions and tools that you can use to make your program work better, without having to create everything from scratch."
   ]
  },
  {
   "cell_type": "markdown",
   "id": "f334405e",
   "metadata": {},
   "source": [
    "In the programming world, a module is a self-contained piece of code that encapsulates a specific functionality or a set of related functionalities. It is designed to perform a specific task or a group of related tasks and can be reused across different parts of a program or in different programs.\n",
    "\n",
    "Modules help organize code in a more structured way by dividing a large program into smaller, manageable sections. They can contain variables, functions, classes, and other components that work together to perform the tasks they are designed for."
   ]
  },
  {
   "cell_type": "markdown",
   "id": "384ed6f2",
   "metadata": {},
   "source": [
    "# 2) Features of Modules"
   ]
  },
  {
   "cell_type": "markdown",
   "id": "0d329f08",
   "metadata": {},
   "source": [
    "### **M**odularity\n",
    "- **Description**: Modules promote modularity in a program, allowing developers to break down complex systems into smaller, manageable parts. This separation of concerns makes code easier to understand, test, and maintain.\n",
    "\n",
    "### **O**rganization\n",
    "- **Description**: Modules help in organizing code logically. By grouping related functionalities together, modules make it easier to navigate and find specific parts of the codebase, improving overall code structure.\n",
    "\n",
    "### **D**ependability\n",
    "- **Description**: Modules can define and manage their dependencies, allowing for clear and controlled interaction with other parts of the system. This reduces the likelihood of errors and enhances the reliability of the code.\n",
    "\n",
    "### **U**sefulness\n",
    "- **Description**: Modules can encapsulate reusable code, making it easy to use the same functionality across different parts of a program or even in different projects. This reduces redundancy and saves development time.\n",
    "\n",
    "### **L**oose Coupling\n",
    "- **Description**: Modules enable loose coupling between different parts of a program, meaning changes in one module have minimal impact on others. This enhances the flexibility and adaptability of the codebase.\n",
    "\n",
    "### **E**ncapsulation\n",
    "- **Description**: Modules provide encapsulation by hiding the internal implementation details and exposing only the necessary interfaces. This abstraction simplifies the interaction with the module and protects the internal code from unintended interference.\n"
   ]
  },
  {
   "cell_type": "markdown",
   "id": "80827835",
   "metadata": {},
   "source": [
    "# 3) Importing Modules\n",
    "# 4) Importing Module Attributes"
   ]
  },
  {
   "cell_type": "markdown",
   "id": "c66d6e11",
   "metadata": {},
   "source": [
    "Here's how you can import and use attributes from the `M5B` module in Python, explained with examples:\n",
    "\n",
    "### 1. Importing the Entire Module\n",
    "You can import the entire module and access its attributes (functions) using the module's name as a prefix."
   ]
  },
  {
   "cell_type": "code",
   "execution_count": 3,
   "id": "cc36bc6c",
   "metadata": {},
   "outputs": [
    {
     "name": "stdout",
     "output_type": "stream",
     "text": [
      "9\n",
      "20\n",
      "5.0\n"
     ]
    }
   ],
   "source": [
    "import M5B\n",
    "\n",
    "# Accessing the sum, mul, and div functions from the M5B module\n",
    "print(M5B.sum(4, 5))  # Output: 9\n",
    "print(M5B.mul(4, 5))  # Output: 20\n",
    "print(M5B.div(10, 2)) # Output: 5.0"
   ]
  },
  {
   "cell_type": "markdown",
   "id": "e89ca441",
   "metadata": {},
   "source": [
    "### 2. Importing Specific Attributes\n",
    "If you only need specific functions from the `M5B` module, you can import them directly. This allows you to use the functions without the module name prefix."
   ]
  },
  {
   "cell_type": "code",
   "execution_count": 5,
   "id": "29bfe234",
   "metadata": {},
   "outputs": [
    {
     "name": "stdout",
     "output_type": "stream",
     "text": [
      "9\n",
      "20\n",
      "5.0\n"
     ]
    }
   ],
   "source": [
    "from M5B import sum, mul, div\n",
    "\n",
    "# Directly using the imported functions\n",
    "print(sum(4, 5))  # Output: 9\n",
    "print(mul(4, 5))  # Output: 20\n",
    "print(div(10, 2)) # Output: 5.0"
   ]
  },
  {
   "cell_type": "markdown",
   "id": "1d4598df",
   "metadata": {},
   "source": [
    "### 3. Importing All Attributes\n",
    "You can import everything from the `M5B` module using `*`, but this is generally not recommended because it can lead to confusion, especially if different modules have attributes with the same name."
   ]
  },
  {
   "cell_type": "code",
   "execution_count": 6,
   "id": "c85bed9f",
   "metadata": {},
   "outputs": [
    {
     "name": "stdout",
     "output_type": "stream",
     "text": [
      "9\n",
      "20\n",
      "5.0\n"
     ]
    }
   ],
   "source": [
    "from M5B import *\n",
    "\n",
    "# Now all functions of the M5B module are available\n",
    "print(sum(4, 5))  # Output: 9\n",
    "print(mul(4, 5))  # Output: 20\n",
    "print(div(10, 2)) # Output: 5.0"
   ]
  },
  {
   "cell_type": "markdown",
   "id": "cc82fa41",
   "metadata": {},
   "source": [
    "### 4. Importing with an Alias\n",
    "You can import the `M5B` module and give it a shorter name (alias) for convenience."
   ]
  },
  {
   "cell_type": "code",
   "execution_count": 7,
   "id": "baf305bb",
   "metadata": {},
   "outputs": [
    {
     "name": "stdout",
     "output_type": "stream",
     "text": [
      "9\n",
      "20\n",
      "5.0\n"
     ]
    }
   ],
   "source": [
    "import M5B as m\n",
    "\n",
    "# Using the alias to access module functions\n",
    "print(m.sum(4, 5))  # Output: 9\n",
    "print(m.mul(4, 5))  # Output: 20\n",
    "print(m.div(10, 2)) # Output: 5.0"
   ]
  },
  {
   "cell_type": "markdown",
   "id": "a5d52d34",
   "metadata": {},
   "source": [
    "### 5. Importing Specific Attributes with an Alias\n",
    "You can also give specific functions an alias if you want to shorten their names."
   ]
  },
  {
   "cell_type": "code",
   "execution_count": 8,
   "id": "ba882ee5",
   "metadata": {},
   "outputs": [
    {
     "name": "stdout",
     "output_type": "stream",
     "text": [
      "9\n",
      "20\n",
      "5.0\n"
     ]
    }
   ],
   "source": [
    "from M5B import sum as s, mul as m, div as d\n",
    "\n",
    "# Using the alias names\n",
    "print(s(4, 5))  # Output: 9\n",
    "print(m(4, 5))  # Output: 20\n",
    "print(d(10, 2)) # Output: 5.0"
   ]
  },
  {
   "cell_type": "markdown",
   "id": "d0bbef71",
   "metadata": {},
   "source": [
    "### Summary:\n",
    "- **`import M5B`**: Imports the entire `M5B` module.\n",
    "- **`from M5B import sum, mul, div`**: Imports specific functions.\n",
    "- **`from M5B import *`**: Imports all functions (use cautiously).\n",
    "- **`import M5B as alias`**: Imports the module with an alias.\n",
    "- **`from M5B import sum as alias, mul as alias, div as alias`**: Imports specific functions with an alias."
   ]
  },
  {
   "cell_type": "markdown",
   "id": "18c684c7",
   "metadata": {},
   "source": [
    "# 5) Module Built-in Functions"
   ]
  },
  {
   "cell_type": "markdown",
   "id": "d6edad46",
   "metadata": {},
   "source": [
    "In Python, modules often come with built-in functions, which are functions that are part of the module's functionality and are available for use as soon as you import the module. Here are some examples of commonly used built-in functions from popular Python modules:\n",
    "\n",
    "### 1. `math` Module\n",
    "The `math` module provides mathematical functions.\n",
    "\n",
    "- **`math.sqrt(x)`**: Returns the square root of `x`.\n",
    "- **`math.pow(x, y)`**: Returns `x` raised to the power of `y`.\n",
    "- **`math.sin(x)`**: Returns the sine of `x` (in radians).\n",
    "- **`math.cos(x)`**: Returns the cosine of `x` (in radians).\n",
    "- **`math.factorial(x)`**: Returns the factorial of `x`.\n",
    "- **`math.pi`**: The value of π (pi).\n",
    "\n",
    "```python\n",
    "import math\n",
    "\n",
    "print(math.sqrt(9))   # Output: 3.0\n",
    "print(math.factorial(5))  # Output: 120\n",
    "```\n",
    "\n",
    "### 2. `random` Module\n",
    "The `random` module provides functions for generating random numbers.\n",
    "\n",
    "- **`random.random()`**: Returns a random float between 0.0 and 1.0.\n",
    "- **`random.randint(a, b)`**: Returns a random integer between `a` and `b` (inclusive).\n",
    "- **`random.choice(sequence)`**: Returns a random element from a non-empty sequence.\n",
    "- **`random.shuffle(sequence)`**: Shuffles the sequence in place.\n",
    "- **`random.sample(population, k)`**: Returns a list of `k` elements chosen from the population.\n",
    "\n",
    "```python\n",
    "import random\n",
    "\n",
    "print(random.randint(1, 10))  # Output: Random integer between 1 and 10\n",
    "print(random.choice(['apple', 'banana', 'cherry']))  # Output: Randomly chosen element\n",
    "```\n",
    "\n",
    "### 3. `datetime` Module\n",
    "The `datetime` module provides functions for manipulating dates and times.\n",
    "\n",
    "- **`datetime.datetime.now()`**: Returns the current date and time.\n",
    "- **`datetime.datetime.today()`**: Returns the current local date.\n",
    "- **`datetime.datetime.strftime(format)`**: Formats a date object as a string according to the specified format.\n",
    "- **`datetime.datetime.strptime(date_string, format)`**: Parses a string into a datetime object according to the specified format.\n",
    "- **`datetime.timedelta(days, seconds, minutes)`**: Represents the difference between two dates or times.\n",
    "\n",
    "```python\n",
    "import datetime\n",
    "\n",
    "now = datetime.datetime.now()\n",
    "print(now)  # Output: Current date and time\n",
    "\n",
    "formatted_date = now.strftime(\"%Y-%m-%d\")\n",
    "print(formatted_date)  # Output: Date in YYYY-MM-DD format\n",
    "```\n",
    "\n",
    "### 4. `os` Module\n",
    "The `os` module provides functions for interacting with the operating system.\n",
    "\n",
    "- **`os.getcwd()`**: Returns the current working directory.\n",
    "- **`os.listdir(path)`**: Returns a list of files and directories in the specified path.\n",
    "- **`os.mkdir(path)`**: Creates a new directory at the specified path.\n",
    "- **`os.remove(path)`**: Removes the specified file.\n",
    "- **`os.path.exists(path)`**: Returns `True` if the specified path exists.\n",
    "\n",
    "```python\n",
    "import os\n",
    "\n",
    "current_dir = os.getcwd()\n",
    "print(current_dir)  # Output: Current working directory\n",
    "\n",
    "os.mkdir(\"new_folder\")  # Creates a new directory called \"new_folder\"\n",
    "```\n",
    "\n",
    "### 5. `sys` Module\n",
    "The `sys` module provides functions and variables used to manipulate different parts of the Python runtime environment.\n",
    "\n",
    "- **`sys.argv`**: A list of command-line arguments passed to the script.\n",
    "- **`sys.exit()`**: Exits from Python.\n",
    "- **`sys.version`**: Returns the Python version as a string.\n",
    "- **`sys.path`**: A list of strings that specifies the search path for modules.\n",
    "\n",
    "```python\n",
    "import sys\n",
    "\n",
    "print(sys.version)  # Output: Python version\n",
    "```\n",
    "\n",
    "### Summary:\n",
    "These built-in functions within modules provide powerful tools that can be used directly after importing the corresponding module. Each module has its own set of built-in functions tailored to specific tasks, making Python a very versatile language."
   ]
  },
  {
   "cell_type": "markdown",
   "id": "db898985",
   "metadata": {},
   "source": [
    "# 6) Namespaces"
   ]
  },
  {
   "cell_type": "markdown",
   "id": "15d2aaf2",
   "metadata": {},
   "source": [
    "Namespaces in Python are a way to ensure that names in a program do not conflict with each other. They provide a context in which variables, functions, and classes are defined and used. Here's a detailed explanation of namespaces with examples:\n",
    "\n",
    "### 1. What is a Namespace?\n",
    "# A namespace is a container that holds a set of identifiers (names) and the objects they reference. It ensures that all the names are unique within that namespace.\n",
    "\n",
    "### 2. Types of Namespaces\n",
    "There are four types of namespaces in Python:\n",
    "\n",
    "1. **Built-in Namespace**: \n",
    "   - Contains the names of all built-in functions and exceptions (like `print()`, `len()`, etc.).\n",
    "   - It is available whenever the Python interpreter is running.\n",
    "   \n",
    "   ```python\n",
    "   print(len([1, 2, 3]))  # len is in the built-in namespace\n",
    "   ```\n",
    "\n",
    "2. **Global Namespace**: \n",
    "   - Contains names defined at the top level of a script or module.\n",
    "   - These names are accessible from anywhere within the module or script.\n",
    "\n",
    "   ```python\n",
    "   x = 10  # Global namespace\n",
    "\n",
    "   def func():\n",
    "       print(x)  # Accessing global variable\n",
    "\n",
    "   func()  # Output: 10\n",
    "   ```\n",
    "\n",
    "3. **Local Namespace**: \n",
    "   - Contains names defined inside a function or method.\n",
    "   - These names are only accessible within the function or method where they are defined.\n",
    "\n",
    "   ```python\n",
    "   def func():\n",
    "       y = 5  # Local namespace\n",
    "       print(y)\n",
    "\n",
    "   func()  # Output: 5\n",
    "   # print(y)  # This would raise an error because y is not accessible here\n",
    "   ```\n",
    "\n",
    "4. **Enclosed (or Nonlocal) Namespace**: \n",
    "   - Contains names defined in a nested function.\n",
    "   - These names are not in the global or local namespace but can be accessed in inner functions.\n",
    "\n",
    "   ```python\n",
    "   def outer_func():\n",
    "       z = 20  # Enclosed namespace\n",
    "\n",
    "       def inner_func():\n",
    "           print(z)  # Accessing the enclosed variable\n",
    "\n",
    "       inner_func()  # Output: 20\n",
    "\n",
    "   outer_func()\n",
    "   ```\n",
    "    \n",
    "### Summary:\n",
    "- **Namespaces** provide a way to prevent naming conflicts by organizing variables, functions, and classes into different scopes.\n",
    "- Python checks namespaces following the LEGB rule: **Local**, **Enclosed**, **Global**, and **Built-in**.\n",
    "- **Global** and **nonlocal** keywords allow you to modify variables in their respective namespaces.\n",
    "\n",
    "Understanding namespaces helps you write more organized and error-free Python code by ensuring that your variables and functions are used in the appropriate context."
   ]
  },
  {
   "cell_type": "code",
   "execution_count": null,
   "id": "26684db5",
   "metadata": {},
   "outputs": [],
   "source": []
  }
 ],
 "metadata": {
  "kernelspec": {
   "display_name": "Python 3 (ipykernel)",
   "language": "python",
   "name": "python3"
  },
  "language_info": {
   "codemirror_mode": {
    "name": "ipython",
    "version": 3
   },
   "file_extension": ".py",
   "mimetype": "text/x-python",
   "name": "python",
   "nbconvert_exporter": "python",
   "pygments_lexer": "ipython3",
   "version": "3.11.3"
  }
 },
 "nbformat": 4,
 "nbformat_minor": 5
}
