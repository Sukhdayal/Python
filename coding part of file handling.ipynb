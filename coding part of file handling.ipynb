{
 "cells": [
  {
   "cell_type": "code",
   "execution_count": null,
   "id": "f3f9eea8",
   "metadata": {},
   "outputs": [],
   "source": [
    "# Open the file in read mode\n",
    "file = open('example.txt', 'r')\n",
    "# Read the first line\n",
    "line = file.readlines()\n",
    "print(line)\n",
    "file.close()"
   ]
  },
  {
   "cell_type": "code",
   "execution_count": null,
   "id": "013bdd6c",
   "metadata": {},
   "outputs": [],
   "source": [
    "# 1. Writing to a file using write() method\n",
    "file = open(\"example.txt\", \"w\")  # Open the file in write mode\n",
    "\n",
    "# Writing a single line\n",
    "file.write(\"This is the first line written using write().\\n\")\n",
    "file.write(\"This is the second line written using write().\\n\")\n",
    "\n",
    "# Close the file after writing\n",
    "file.close()"
   ]
  },
  {
   "cell_type": "code",
   "execution_count": null,
   "id": "d62b6eaf",
   "metadata": {},
   "outputs": [],
   "source": [
    "# 2. Writing multiple lines using writelines() method\n",
    "file = open(\"example.txt\", \"w\")  # Open the file in write mode again, it will overwrite previous content\n",
    "\n",
    "# List of lines to write\n",
    "lines = [\"Line one from writelines().\\n\", \"Line two from writelines().\\n\", \"Line three from writelines().\\n\"]\n",
    "\n",
    "# Writing lines to the file\n",
    "file.writelines(lines)\n",
    "\n",
    "# Close the file after writing\n",
    "file.close()"
   ]
  },
  {
   "cell_type": "code",
   "execution_count": null,
   "id": "9f29b5c9",
   "metadata": {},
   "outputs": [],
   "source": [
    "# 3. Appending new content using write() method\n",
    "file = open(\"example.txt\", \"a\")  # Open the file in append mode\n",
    "\n",
    "# Writing additional content without overwriting the previous content\n",
    "file.write(\"This line is appended at the end of the file.\\n\")\n",
    "file.write(\"Appending another line using write().\\n\")\n",
    "\n",
    "# Close the file after writing\n",
    "file.close()\n",
    "\n",
    "print(\"Different writing operations have been performed on the file.\")"
   ]
  },
  {
   "cell_type": "code",
   "execution_count": null,
   "id": "9d35159f",
   "metadata": {},
   "outputs": [],
   "source": [
    "# Open the file in read mode\n",
    "file = open('example.txt', 'r')\n",
    "\n",
    "# Read the entire file content\n",
    "content = file.read()\n",
    "\n",
    "# Print the content\n",
    "print(content)\n",
    "\n",
    "# Close the file\n",
    "file.close()"
   ]
  },
  {
   "cell_type": "code",
   "execution_count": null,
   "id": "9ae89180",
   "metadata": {},
   "outputs": [],
   "source": [
    "# Open the file in read mode\n",
    "file = open('example.txt', 'r')\n",
    "\n",
    "# Read the first line\n",
    "line = file.readline()\n",
    "\n",
    "# Print the first line\n",
    "print(line)\n",
    "\n",
    "# Read and print the second line\n",
    "line = file.readline()\n",
    "print(line)\n",
    "\n",
    "# Close the file\n",
    "file.close()"
   ]
  },
  {
   "cell_type": "code",
   "execution_count": null,
   "id": "8a25d7d6",
   "metadata": {},
   "outputs": [],
   "source": [
    "# Open the file in read mode\n",
    "file = open('example.txt', 'r')\n",
    "\n",
    "# Read all lines into a list\n",
    "lines = file.readlines()\n",
    "\n",
    "# Print the list of lines\n",
    "print(lines)\n",
    "\n",
    "# Close the file\n",
    "file.close()"
   ]
  },
  {
   "cell_type": "code",
   "execution_count": null,
   "id": "2c5755ff",
   "metadata": {},
   "outputs": [],
   "source": [
    "# Open a file in write mode to create and write some content\n",
    "file = open(\"example12.txt\", \"w\")\n",
    "file.write(\"Hello, world!\\nThis is a file handling example.\\nLearning seek, tell, and truncate.\")\n",
    "file.close()"
   ]
  },
  {
   "cell_type": "code",
   "execution_count": null,
   "id": "c4b6fa83",
   "metadata": {},
   "outputs": [],
   "source": []
  },
  {
   "cell_type": "code",
   "execution_count": null,
   "id": "874eabd1",
   "metadata": {},
   "outputs": [],
   "source": []
  },
  {
   "cell_type": "code",
   "execution_count": 1,
   "id": "127eb72f",
   "metadata": {},
   "outputs": [],
   "source": [
    "# Open the file in read mode\n",
    "file = open(\"example.txt\", \"r\")"
   ]
  },
  {
   "cell_type": "code",
   "execution_count": null,
   "id": "b4aebe32",
   "metadata": {},
   "outputs": [],
   "source": [
    "# 1. Using tell() to find out the current position of the file pointer\n",
    "print(\"Initial file pointer position:\", file.tell())  # Should print 0 as it's at the beginning\n",
    "print(file.read())"
   ]
  },
  {
   "cell_type": "code",
   "execution_count": null,
   "id": "4d30aca8",
   "metadata": {},
   "outputs": [],
   "source": [
    "# 2. Using seek() to move the file pointer to a specific position\n",
    "file.seek(7)  # Move the file pointer to the 7th byte (after \"Hello, \")\n",
    "print(\"File pointer position after seek:\", file.tell())  # Should print 7"
   ]
  },
  {
   "cell_type": "code",
   "execution_count": null,
   "id": "d420497a",
   "metadata": {},
   "outputs": [],
   "source": [
    "# Reading from the new position\n",
    "print(\"Reading from position 7:\")\n",
    "print(file.read())  # Should print \"world!...\""
   ]
  },
  {
   "cell_type": "code",
   "execution_count": null,
   "id": "f1cdbf2b",
   "metadata": {},
   "outputs": [],
   "source": [
    "# Moving the file pointer back to the beginning\n",
    "file.seek(0)\n",
    "print(\"File pointer reset to:\", file.tell())  # Should print 0\n",
    "print(file.read())"
   ]
  },
  {
   "cell_type": "code",
   "execution_count": null,
   "id": "76c0e9a5",
   "metadata": {},
   "outputs": [],
   "source": [
    "# # 3. Using truncate() to shorten the file\n",
    "# file.close()  # Close the file opened in read mode first\n",
    "# file = open(\"example.txt\", \"a\")  # Open the file in append mode to modify it"
   ]
  },
  {
   "cell_type": "code",
   "execution_count": 2,
   "id": "d1f09be5",
   "metadata": {},
   "outputs": [
    {
     "ename": "UnsupportedOperation",
     "evalue": "truncate",
     "output_type": "error",
     "traceback": [
      "\u001b[1;31m---------------------------------------------------------------------------\u001b[0m",
      "\u001b[1;31mUnsupportedOperation\u001b[0m                      Traceback (most recent call last)",
      "Cell \u001b[1;32mIn[2], line 2\u001b[0m\n\u001b[0;32m      1\u001b[0m \u001b[38;5;66;03m# Truncate the file after the first 12 bytes\u001b[39;00m\n\u001b[1;32m----> 2\u001b[0m file\u001b[38;5;241m.\u001b[39mtruncate(\u001b[38;5;241m12\u001b[39m)\n\u001b[0;32m      3\u001b[0m \u001b[38;5;28mprint\u001b[39m(file\u001b[38;5;241m.\u001b[39mread())\n\u001b[0;32m      4\u001b[0m file\u001b[38;5;241m.\u001b[39mclose()\n",
      "\u001b[1;31mUnsupportedOperation\u001b[0m: truncate"
     ]
    }
   ],
   "source": [
    "# Truncate the file after the first 12 bytes\n",
    "file.truncate(12)\n",
    "print(file.read())\n",
    "file.close()"
   ]
  },
  {
   "cell_type": "code",
   "execution_count": null,
   "id": "4fc5538e",
   "metadata": {},
   "outputs": [],
   "source": [
    "# Reading the truncated file\n",
    "file = open(\"example.txt\", \"r\")\n",
    "print(\"Content of the file after truncation:\")\n",
    "print(file.read())  # Should print only \"Hello, world\" (first 12 bytes)"
   ]
  },
  {
   "cell_type": "code",
   "execution_count": null,
   "id": "af80b4ba",
   "metadata": {},
   "outputs": [],
   "source": [
    "# Close the file after all operations\n",
    "file.close()"
   ]
  },
  {
   "cell_type": "markdown",
   "id": "350d4cae",
   "metadata": {},
   "source": [
    "### Explanation:\n",
    "1. **`tell()`**:\n",
    "   - `tell()` returns the current position of the file pointer in the file (in bytes). This is helpful to know where you are in the file.\n",
    "\n",
    "2. **`seek(offset)`**:\n",
    "   - `seek(offset)` moves the file pointer to a specific position in the file. The `offset` is the number of bytes from the beginning.\n",
    "   - For example, `file.seek(7)` moves the pointer to the 7th byte, which is just after \"Hello, \".\n",
    "\n",
    "3. **`truncate(size)`**:\n",
    "   - `truncate(size)` reduces the file size to the specified number of bytes. If you truncate a file, any content after the specified size is removed.\n",
    "   - For example, `file.truncate(12)` shortens the file to only include the first 12 bytes, which in this case is \"Hello, world\".\n",
    "\n",
    "### Output of This Example:\n",
    "- Initially, the file contains: `\"Hello, world!\\nThis is a file handling example.\\nLearning seek, tell, and truncate.\"`\n",
    "- After using `seek()` and `tell()`, you move around and read from different positions in the file.\n",
    "- After using `truncate(12)`, the file only contains the first 12 bytes: `\"Hello, world\"`.\n",
    "\n",
    "This example helps demonstrate how to navigate and manipulate files using `seek()`, `tell()`, and `truncate()` in Python."
   ]
  },
  {
   "cell_type": "code",
   "execution_count": null,
   "id": "844dca69",
   "metadata": {},
   "outputs": [],
   "source": []
  },
  {
   "cell_type": "code",
   "execution_count": null,
   "id": "13e75ccc",
   "metadata": {},
   "outputs": [],
   "source": []
  },
  {
   "cell_type": "code",
   "execution_count": null,
   "id": "fc89375b",
   "metadata": {},
   "outputs": [],
   "source": []
  }
 ],
 "metadata": {
  "kernelspec": {
   "display_name": "Python 3 (ipykernel)",
   "language": "python",
   "name": "python3"
  },
  "language_info": {
   "codemirror_mode": {
    "name": "ipython",
    "version": 3
   },
   "file_extension": ".py",
   "mimetype": "text/x-python",
   "name": "python",
   "nbconvert_exporter": "python",
   "pygments_lexer": "ipython3",
   "version": "3.11.3"
  }
 },
 "nbformat": 4,
 "nbformat_minor": 5
}
