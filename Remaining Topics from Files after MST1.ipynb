{
 "cells": [
  {
   "cell_type": "markdown",
   "id": "1bbb3ad2",
   "metadata": {},
   "source": [
    "### 1. **Standard Files**\n",
    "Standard files are the default input, output, and error streams in a system, commonly referred to as:\n",
    "- **Standard Input (stdin)**: Used to read input from the keyboard or any input device. In Python, you can use the `input()` function to read from stdin.\n",
    "- **Standard Output (stdout)**: Used to display output to the screen. In Python, `print()` is used to send output to stdout.\n",
    "- **Standard Error (stderr)**: Used to output error messages. In Python, you can use the `sys.stderr` object to send error messages."
   ]
  },
  {
   "cell_type": "code",
   "execution_count": 1,
   "id": "a3b3ad45",
   "metadata": {},
   "outputs": [
    {
     "name": "stdout",
     "output_type": "stream",
     "text": [
      "Enter your name: Sukh\n",
      "Hello, Sukh!\n"
     ]
    },
    {
     "name": "stderr",
     "output_type": "stream",
     "text": [
      "This is an error message!\n"
     ]
    },
    {
     "data": {
      "text/plain": [
       "26"
      ]
     },
     "execution_count": 1,
     "metadata": {},
     "output_type": "execute_result"
    }
   ],
   "source": [
    "# Example:\n",
    "\n",
    "import sys\n",
    "\n",
    "# Reading from stdin\n",
    "name = input(\"Enter your name: \")\n",
    "\n",
    "# Writing to stdout\n",
    "print(f\"Hello, {name}!\")\n",
    "\n",
    "# Writing an error message to stderr\n",
    "sys.stderr.write(\"This is an error message!\\n\")"
   ]
  },
  {
   "cell_type": "markdown",
   "id": "83aa889c",
   "metadata": {},
   "source": [
    "### 2. **Command-line Arguments**\n",
    "Command-line arguments are parameters passed to a program at the time it is executed from the command line or terminal. They can be accessed in Python using the `sys` module."
   ]
  },
  {
   "cell_type": "code",
   "execution_count": 2,
   "id": "b0749565",
   "metadata": {},
   "outputs": [
    {
     "name": "stdout",
     "output_type": "stream",
     "text": [
      "Command-line arguments: ['-f', 'C:\\\\Users\\\\lenovo\\\\AppData\\\\Roaming\\\\jupyter\\\\runtime\\\\kernel-48275bf9-c51a-43ee-a4b8-92035fe50dcb.json']\n"
     ]
    }
   ],
   "source": [
    "# Example:\n",
    "\n",
    "import sys\n",
    "\n",
    "# sys.argv is a list where the first item is the script name\n",
    "arguments = sys.argv[1:]  # Skip the first argument (script name)\n",
    "\n",
    "print(\"Command-line arguments:\", arguments)"
   ]
  },
  {
   "cell_type": "markdown",
   "id": "6fd96655",
   "metadata": {},
   "source": [
    "### To run this script, save it as `script.py` and execute it from the command line:"
   ]
  },
  {
   "cell_type": "code",
   "execution_count": 4,
   "id": "a530b81b",
   "metadata": {
    "collapsed": true
   },
   "outputs": [
    {
     "ename": "SyntaxError",
     "evalue": "invalid syntax (1454951565.py, line 2)",
     "output_type": "error",
     "traceback": [
      "\u001b[1;36m  Cell \u001b[1;32mIn[4], line 2\u001b[1;36m\u001b[0m\n\u001b[1;33m    python script.py arg1 arg2 arg3\u001b[0m\n\u001b[1;37m           ^\u001b[0m\n\u001b[1;31mSyntaxError\u001b[0m\u001b[1;31m:\u001b[0m invalid syntax\n"
     ]
    }
   ],
   "source": [
    "# this will works only in shell\n",
    "python script.py arg1 arg2 arg3"
   ]
  },
  {
   "cell_type": "markdown",
   "id": "62e117f7",
   "metadata": {},
   "source": [
    "### 3. **File System**\n",
    "The file system refers to the way files are stored and organized on disk. Python provides several modules to interact with the file system, such as:\n",
    "- **`os`**: Used for interacting with the operating system, handling file paths, directories, and environment variables.\n",
    "- **`os.path`**: Provides functions for common pathname manipulations.\n",
    "- **`shutil`**: Offers a higher-level interface for file operations like copying, moving, and removing directories."
   ]
  },
  {
   "cell_type": "code",
   "execution_count": 5,
   "id": "939e6694",
   "metadata": {},
   "outputs": [
    {
     "name": "stdout",
     "output_type": "stream",
     "text": [
      "Current Directory: C:\\Users\\lenovo\\Desktop\\REGEX\n",
      "Files in the directory: ['.ipynb_checkpoints', 'REGEX Code.ipynb', 'Regex_in_Python_Introduction.pptx', 'Regex_Metacharacters_Table for all signs.docx', 'Regex_Metacharacters_Table.docx', 'Remaining Topics from Files after MST1.ipynb']\n"
     ]
    }
   ],
   "source": [
    "# Example:\n",
    "\n",
    "import os\n",
    "\n",
    "# Get the current working directory\n",
    "current_directory = os.getcwd()\n",
    "print(\"Current Directory:\", current_directory)\n",
    "\n",
    "# List all files in a directory\n",
    "files = os.listdir(current_directory)\n",
    "print(\"Files in the directory:\", files)\n",
    "\n",
    "# Create a new directory\n",
    "os.mkdir('new_directory')"
   ]
  },
  {
   "cell_type": "markdown",
   "id": "9052793d",
   "metadata": {},
   "source": [
    "### 4. **File Execution**\n",
    "File execution refers to running a script or program from a file. Python files (`.py` files) can be executed from the command line or terminal. You can execute a Python file using the `python` command followed by the script name."
   ]
  },
  {
   "cell_type": "code",
   "execution_count": 6,
   "id": "350cb6ba",
   "metadata": {
    "collapsed": true
   },
   "outputs": [
    {
     "ename": "SyntaxError",
     "evalue": "invalid syntax (4115810454.py, line 3)",
     "output_type": "error",
     "traceback": [
      "\u001b[1;36m  Cell \u001b[1;32mIn[6], line 3\u001b[1;36m\u001b[0m\n\u001b[1;33m    python script.py\u001b[0m\n\u001b[1;37m           ^\u001b[0m\n\u001b[1;31mSyntaxError\u001b[0m\u001b[1;31m:\u001b[0m invalid syntax\n"
     ]
    }
   ],
   "source": [
    "# Example:\n",
    "# will work only in shell environment\n",
    "python script.py"
   ]
  },
  {
   "cell_type": "markdown",
   "id": "995b23bb",
   "metadata": {},
   "source": [
    "### Additionally, Python scripts can execute other scripts or programs using the `subprocess` module."
   ]
  },
  {
   "cell_type": "code",
   "execution_count": 7,
   "id": "cb04057e",
   "metadata": {},
   "outputs": [
    {
     "data": {
      "text/plain": [
       "CompletedProcess(args=['python', 'other_script.py'], returncode=2)"
      ]
     },
     "execution_count": 7,
     "metadata": {},
     "output_type": "execute_result"
    }
   ],
   "source": [
    "# Example:\n",
    "\n",
    "import subprocess\n",
    "\n",
    "# Execute another Python script\n",
    "subprocess.run(['python', 'other_script.py'])"
   ]
  },
  {
   "cell_type": "markdown",
   "id": "d769217c",
   "metadata": {},
   "source": [
    "### 5. **Persistent Storage Modules**\n",
    "Persistent storage refers to saving data in a way that it can be retrieved later, even after the program terminates. In Python, several modules help with persistent storage:\n",
    "- **`pickle`**: Used for serializing and deserializing Python objects.\n",
    "- **`shelve`**: A simpler way to persistently store Python objects like dictionaries.\n",
    "- **`sqlite3`**: An in-process library that implements a self-contained, serverless, zero-configuration, transactional SQL database engine.\n",
    "\n",
    "**Example using `pickle`:**"
   ]
  },
  {
   "cell_type": "code",
   "execution_count": 8,
   "id": "6c5fcc84",
   "metadata": {},
   "outputs": [
    {
     "name": "stdout",
     "output_type": "stream",
     "text": [
      "Loaded Data: {'name': 'Alice', 'age': 25}\n"
     ]
    }
   ],
   "source": [
    "import pickle\n",
    "\n",
    "# Data to be saved\n",
    "data = {'name': 'Alice', 'age': 25}\n",
    "\n",
    "# Save data to a file\n",
    "with open('data.pkl', 'wb') as file:\n",
    "    pickle.dump(data, file)\n",
    "\n",
    "# Load data from a file\n",
    "with open('data.pkl', 'rb') as file:\n",
    "    loaded_data = pickle.load(file)\n",
    "    print(\"Loaded Data:\", loaded_data)"
   ]
  },
  {
   "cell_type": "markdown",
   "id": "437e1db4",
   "metadata": {},
   "source": [
    "### 6. **Related Modules**\n",
    "Several Python modules relate to files, file systems, and storage:\n",
    "- **`os`**: Provides a way of using operating system-dependent functionality, such as reading or writing to the file system.\n",
    "- **`os.path`**: Handles common pathname manipulations.\n",
    "- **`shutil`**: Offers high-level file operations like copying and archiving.\n",
    "- **`glob`**: Used for pattern matching in file names.\n",
    "- **`tempfile`**: Used to create temporary files and directories.\n",
    "- **`json`**: Used to serialize and deserialize JSON objects, often for storing data in a text format.\n",
    "- **`csv`**: Provides functions to read and write CSV files.\n",
    "- **`sqlite3`**: An in-built module for working with SQLite databases, which is useful for persistent data storage."
   ]
  },
  {
   "cell_type": "markdown",
   "id": "7ecc7d2c",
   "metadata": {},
   "source": [
    "### Summary\n",
    "- **Standard Files** handle input, output, and errors.\n",
    "- **Command-line Arguments** allow scripts to accept input from the command line.\n",
    "- **File System** modules interact with the operating system to handle files and directories.\n",
    "- **File Execution** runs Python or other scripts programmatically.\n",
    "- **Persistent Storage Modules** like `pickle`, `shelve`, and `sqlite3` save data for later use.\n",
    "- **Related Modules** offer various tools for working with files, data, and the operating system."
   ]
  },
  {
   "cell_type": "code",
   "execution_count": null,
   "id": "e36bbaab",
   "metadata": {},
   "outputs": [],
   "source": []
  }
 ],
 "metadata": {
  "kernelspec": {
   "display_name": "Python 3 (ipykernel)",
   "language": "python",
   "name": "python3"
  },
  "language_info": {
   "codemirror_mode": {
    "name": "ipython",
    "version": 3
   },
   "file_extension": ".py",
   "mimetype": "text/x-python",
   "name": "python",
   "nbconvert_exporter": "python",
   "pygments_lexer": "ipython3",
   "version": "3.11.3"
  }
 },
 "nbformat": 4,
 "nbformat_minor": 5
}
