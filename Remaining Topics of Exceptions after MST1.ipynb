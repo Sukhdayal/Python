{
 "cells": [
  {
   "cell_type": "code",
   "execution_count": null,
   "id": "9d327a34",
   "metadata": {},
   "outputs": [],
   "source": [
    "### 1. **Context Management**\n",
    "Context management is a way of ensuring that resources are properly managed, such as files or network connections. In Python, the `with` statement is commonly used for context management, allowing for clean acquisition and release of resources.\n",
    "\n",
    "**Example: Using Context Management with Files**"
   ]
  },
  {
   "cell_type": "code",
   "execution_count": null,
   "id": "cc97042d",
   "metadata": {},
   "outputs": [],
   "source": [
    "```python\n",
    "with open('example.txt', 'r') as file:\n",
    "    content = file.read()\n",
    "    print(content)\n",
    "# The file is automatically closed after the block of code.\n",
    "```"
   ]
  },
  {
   "cell_type": "code",
   "execution_count": null,
   "id": "bd54f8c0",
   "metadata": {},
   "outputs": [],
   "source": [
    "### In this example, the `with` statement ensures that the file is properly closed after it is read, even if an exception occurs."
   ]
  },
  {
   "cell_type": "code",
   "execution_count": null,
   "id": "f9909633",
   "metadata": {},
   "outputs": [],
   "source": [
    "### 2. **Exceptions as Strings** (Deprecated)\n",
    "In older versions of Python, exceptions could be raised as string objects, like this:"
   ]
  },
  {
   "cell_type": "code",
   "execution_count": null,
   "id": "2ca1828e",
   "metadata": {},
   "outputs": [],
   "source": [
    "```python\n",
    "raise \"This is an error\"\n",
    "```"
   ]
  },
  {
   "cell_type": "markdown",
   "id": "18459e44",
   "metadata": {},
   "source": [
    "### However, this practice is deprecated and no longer supported in modern Python (Python 3.x). Exceptions should be raised as instances of classes derived from the `BaseException` class.\n",
    "\n",
    "### 3. **Raising Exceptions**\n",
    "Raising exceptions allows you to signal that an error or unexpected event has occurred. You can raise an exception using the `raise` statement.\n",
    "\n",
    "**Example: Raising an Exception**"
   ]
  },
  {
   "cell_type": "code",
   "execution_count": 7,
   "id": "b8e53a24",
   "metadata": {},
   "outputs": [
    {
     "name": "stdout",
     "output_type": "stream",
     "text": [
      "Cannot divide by zero.\n"
     ]
    }
   ],
   "source": [
    "def divide(a, b):\n",
    "    if b == 0:\n",
    "        raise ValueError(\"Cannot divide by zero.\")\n",
    "    return a / b\n",
    "\n",
    "try:\n",
    "    result = divide(10, 0)\n",
    "except ValueError as e:\n",
    "    print(e)"
   ]
  },
  {
   "cell_type": "markdown",
   "id": "eae7318f",
   "metadata": {},
   "source": [
    "### In this example, `ValueError` is raised when attempting to divide by zero, and it is caught and handled in the `except` block.\n",
    "\n",
    "### 4. **Assertions**\n",
    "Assertions are used to set checkpoints in your code that should always be true. If the condition is false, an `AssertionError` is raised. They are mainly used during development and debugging.\n",
    "\n",
    "**Example: Using Assertions**"
   ]
  },
  {
   "cell_type": "code",
   "execution_count": 6,
   "id": "faaa6e26",
   "metadata": {},
   "outputs": [],
   "source": [
    "x = 10\n",
    "assert x > 0, \"x should be positive\""
   ]
  },
  {
   "cell_type": "markdown",
   "id": "e763e8fb",
   "metadata": {},
   "source": [
    "### If `x` is not greater than 0, the program will raise an `AssertionError` with the message \"x should be positive\".\n",
    "\n",
    "### 5. **Standard Exceptions**\n",
    "Python provides many built-in exceptions for common error cases. Some of the most common standard exceptions include:\n",
    "- `ValueError`: Raised when a function receives an argument of the correct type but inappropriate value.\n",
    "- `TypeError`: Raised when an operation or function is applied to an object of inappropriate type.\n",
    "- `IndexError`: Raised when a sequence subscript is out of range.\n",
    "- `KeyError`: Raised when a dictionary key is not found.\n",
    "- `FileNotFoundError`: Raised when an attempt to open a file that does not exist fails.\n",
    "- `ZeroDivisionError`: Raised when division or modulo by zero takes place.\n",
    "\n",
    "### 6. **Creating Exceptions**\n",
    "You can create your own exceptions by defining a new exception class that inherits from the `Exception` class.\n",
    "\n",
    "**Example: Creating a Custom Exception**"
   ]
  },
  {
   "cell_type": "code",
   "execution_count": 5,
   "id": "dae1b4de",
   "metadata": {},
   "outputs": [
    {
     "name": "stdout",
     "output_type": "stream",
     "text": [
      "This is a custom error\n"
     ]
    }
   ],
   "source": [
    "class MyCustomError(Exception):\n",
    "    pass\n",
    "\n",
    "try:\n",
    "    raise MyCustomError(\"This is a custom error\")\n",
    "except MyCustomError as e:\n",
    "    print(e)"
   ]
  },
  {
   "cell_type": "markdown",
   "id": "1ca7e149",
   "metadata": {},
   "source": [
    "### In this example, `MyCustomError` is a user-defined exception class, and it is raised and caught like a standard exception.\n",
    "\n",
    "### 7. **Why Exceptions (Now)?**\n",
    "Using exceptions allows you to handle errors gracefully, provide informative messages to the user, and separate error-handling code from regular code. This is crucial in modern software development to create robust, error-resistant programs.\n",
    "\n",
    "### 8. **Why Exceptions at All?**\n",
    "Exceptions provide a systematic way of handling errors:\n",
    "- **Improved Code Clarity**: Separates normal logic from error handling.\n",
    "- **Reduced Boilerplate Code**: Less need for error-checking code scattered throughout your program.\n",
    "- **Greater Flexibility**: Allows you to handle different types of errors in specific ways.\n",
    "\n",
    "### 9. **Exceptions and the `sys` Module**\n",
    "The `sys` module provides access to system-specific parameters and functions. It can be used to interact with exceptions in the following ways:\n",
    "\n",
    "- **`sys.exc_info()`**: Returns information about the most recent exception caught by an `except` block, which includes the exception type, exception value, and a traceback object.\n",
    "\n",
    "**Example: Using `sys.exc_info()`**"
   ]
  },
  {
   "cell_type": "code",
   "execution_count": 3,
   "id": "1f4da3df",
   "metadata": {},
   "outputs": [
    {
     "name": "stdout",
     "output_type": "stream",
     "text": [
      "Exception Type: <class 'ZeroDivisionError'>\n",
      "Exception Value: division by zero\n"
     ]
    }
   ],
   "source": [
    "import sys\n",
    "\n",
    "try:\n",
    "    1 / 0\n",
    "except ZeroDivisionError:\n",
    "    exc_type, exc_value, exc_traceback = sys.exc_info()\n",
    "    print(f\"Exception Type: {exc_type}\")\n",
    "    print(f\"Exception Value: {exc_value}\")"
   ]
  },
  {
   "cell_type": "markdown",
   "id": "f8148624",
   "metadata": {},
   "source": [
    "### 10. **Related Modules**\n",
    "Several Python modules are related to exceptions and context management:\n",
    "\n",
    "- **`traceback`**: Provides utilities to extract, format, and print stack traces of a Python program. Useful for logging exceptions.\n",
    "  \n",
    "  **Example: Using `traceback`**"
   ]
  },
  {
   "cell_type": "code",
   "execution_count": 4,
   "id": "9570bb65",
   "metadata": {},
   "outputs": [
    {
     "name": "stdout",
     "output_type": "stream",
     "text": [
      "An error occurred:\n"
     ]
    },
    {
     "name": "stderr",
     "output_type": "stream",
     "text": [
      "Traceback (most recent call last):\n",
      "  File \"C:\\Users\\lenovo\\AppData\\Local\\Temp\\ipykernel_19360\\144816835.py\", line 4, in <module>\n",
      "    1 / 0\n",
      "    ~~^~~\n",
      "ZeroDivisionError: division by zero\n"
     ]
    }
   ],
   "source": [
    "import traceback\n",
    "\n",
    "try:\n",
    "  1 / 0\n",
    "except ZeroDivisionError:\n",
    "  print(\"An error occurred:\")\n",
    "  traceback.print_exc()"
   ]
  },
  {
   "cell_type": "markdown",
   "id": "4f1bbfd6",
   "metadata": {},
   "source": [
    "### **`logging`**: A flexible logging system that can capture exceptions and error messages in log files.\n",
    "\n",
    "**Example: Using `logging` for Exceptions**\n"
   ]
  },
  {
   "cell_type": "code",
   "execution_count": 1,
   "id": "a69f64b9",
   "metadata": {},
   "outputs": [],
   "source": [
    "import logging\n",
    "\n",
    "logging.basicConfig(filename='app.log', level=logging.ERROR)\n",
    "\n",
    "try:\n",
    "  1 / 0\n",
    "except ZeroDivisionError as e:\n",
    "  logging.error(\"An error occurred\", exc_info=True)"
   ]
  },
  {
   "cell_type": "markdown",
   "id": "f010bf1f",
   "metadata": {},
   "source": [
    "### Summary\n",
    "- **Context Management** helps manage resources like files or network connections.\n",
    "- **Exceptions as Strings** were used in older Python versions but are deprecated.\n",
    "- **Raising Exceptions** signals errors or unusual conditions.\n",
    "- **Assertions** are checks that ensure certain conditions hold true.\n",
    "- **Standard Exceptions** handle common errors (e.g., `ValueError`, `TypeError`).\n",
    "- **Creating Exceptions** allows for custom error handling.\n",
    "- **Why Exceptions?** They provide a structured and clean way to handle errors.\n",
    "- **Exceptions and the `sys` Module** provide tools for working with exceptions at a system level.\n",
    "- **Related Modules** like `traceback` and `logging` assist in exception management and debugging."
   ]
  },
  {
   "cell_type": "code",
   "execution_count": null,
   "id": "3ef4c8ab",
   "metadata": {},
   "outputs": [],
   "source": []
  }
 ],
 "metadata": {
  "kernelspec": {
   "display_name": "Python 3 (ipykernel)",
   "language": "python",
   "name": "python3"
  },
  "language_info": {
   "codemirror_mode": {
    "name": "ipython",
    "version": 3
   },
   "file_extension": ".py",
   "mimetype": "text/x-python",
   "name": "python",
   "nbconvert_exporter": "python",
   "pygments_lexer": "ipython3",
   "version": "3.11.3"
  }
 },
 "nbformat": 4,
 "nbformat_minor": 5
}
