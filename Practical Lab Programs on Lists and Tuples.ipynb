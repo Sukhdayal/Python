{
 "cells": [
  {
   "cell_type": "markdown",
   "id": "832818ff",
   "metadata": {},
   "source": [
    "# Program 5: Creating, Appending, and Removing Lists in Python"
   ]
  },
  {
   "cell_type": "code",
   "execution_count": 5,
   "id": "2fe2b10a",
   "metadata": {},
   "outputs": [
    {
     "name": "stdout",
     "output_type": "stream",
     "text": [
      "Original list: [10, 20, 30, 40, 50]\n"
     ]
    }
   ],
   "source": [
    "# Creating a list of numbers\n",
    "numbers = [10, 20, 30, 40, 50]\n",
    "print(\"Original list:\", numbers)"
   ]
  },
  {
   "cell_type": "code",
   "execution_count": 6,
   "id": "03b88544",
   "metadata": {},
   "outputs": [
    {
     "name": "stdout",
     "output_type": "stream",
     "text": [
      "List after appending 60: [10, 20, 30, 40, 50, 60]\n"
     ]
    }
   ],
   "source": [
    "# Appending a number to the list\n",
    "numbers.append(60)\n",
    "print(\"List after appending 60:\", numbers)"
   ]
  },
  {
   "cell_type": "code",
   "execution_count": 7,
   "id": "10234f3a",
   "metadata": {},
   "outputs": [
    {
     "name": "stdout",
     "output_type": "stream",
     "text": [
      "List after removing 30: [10, 20, 40, 50, 60]\n"
     ]
    }
   ],
   "source": [
    "# Removing a number from the list\n",
    "numbers.remove(30)\n",
    "print(\"List after removing 30:\", numbers)"
   ]
  },
  {
   "cell_type": "markdown",
   "id": "e49285d9",
   "metadata": {},
   "source": [
    "### **Explanation:**\n",
    "- We start by creating a list called `numbers` with five elements: 10, 20, 30, 40, and 50.\n",
    "- We use the `append()` method to add the number 60 to the end of the list.\n",
    "- Then, we use the `remove()` method to remove the number 30 from the list.\n",
    "- The `print()` statements are used to display the list at each step."
   ]
  },
  {
   "cell_type": "markdown",
   "id": "a9f05326",
   "metadata": {},
   "source": [
    "# Program 6: Working with Tuples in Python"
   ]
  },
  {
   "cell_type": "code",
   "execution_count": 8,
   "id": "b77cdd74",
   "metadata": {},
   "outputs": [
    {
     "name": "stdout",
     "output_type": "stream",
     "text": [
      "Original tuple: (5, 10, 15, 20, 25)\n"
     ]
    }
   ],
   "source": [
    "# Creating a tuple of numbers\n",
    "numbers_tuple = (5, 10, 15, 20, 25)\n",
    "print(\"Original tuple:\", numbers_tuple)"
   ]
  },
  {
   "cell_type": "code",
   "execution_count": 9,
   "id": "7fcc024f",
   "metadata": {},
   "outputs": [
    {
     "name": "stdout",
     "output_type": "stream",
     "text": [
      "First element: 5\n",
      "Last element: 25\n"
     ]
    }
   ],
   "source": [
    "# Accessing elements in a tuple\n",
    "first_element = numbers_tuple[0]\n",
    "last_element = numbers_tuple[-1]\n",
    "print(\"First element:\", first_element)\n",
    "print(\"Last element:\", last_element)"
   ]
  },
  {
   "cell_type": "code",
   "execution_count": 11,
   "id": "500d29a8",
   "metadata": {},
   "outputs": [
    {
     "name": "stdout",
     "output_type": "stream",
     "text": [
      "New tuple after combining: (5, 10, 15, 20, 25, 30, 35)\n"
     ]
    }
   ],
   "source": [
    "# Tuples are immutable, so you cannot add or remove elements\n",
    "# But you can create a new tuple by combining two tuples\n",
    "new_tuple = numbers_tuple + (30, 35)\n",
    "print(\"New tuple after combining:\", new_tuple)"
   ]
  },
  {
   "cell_type": "markdown",
   "id": "9b3a05a7",
   "metadata": {},
   "source": [
    "### **Explanation:**\n",
    "- We create a tuple called `numbers_tuple` with five elements: 5, 10, 15, 20, and 25.\n",
    "- We access and print the first and last elements of the tuple using index positions.\n",
    "- Tuples are immutable, meaning you cannot change them directly. However, you can create a new tuple by combining two tuples together, which is shown in the example."
   ]
  },
  {
   "cell_type": "code",
   "execution_count": 12,
   "id": "d48f9f3d",
   "metadata": {},
   "outputs": [
    {
     "name": "stdout",
     "output_type": "stream",
     "text": [
      "Original tuple: (5, 10, 15, 20, 25)\n"
     ]
    }
   ],
   "source": [
    "# Creating a tuple of numbers\n",
    "numbers_tuple = (5, 10, 15, 20, 25)\n",
    "print(\"Original tuple:\", numbers_tuple)"
   ]
  },
  {
   "cell_type": "code",
   "execution_count": 13,
   "id": "4bb5904d",
   "metadata": {},
   "outputs": [
    {
     "name": "stdout",
     "output_type": "stream",
     "text": [
      "First element: 5\n"
     ]
    }
   ],
   "source": [
    "# Accessing elements in a tuple\n",
    "first_element = numbers_tuple[0]\n",
    "print(\"First element:\", first_element)"
   ]
  },
  {
   "cell_type": "code",
   "execution_count": 14,
   "id": "0e8d9b15",
   "metadata": {},
   "outputs": [
    {
     "name": "stdout",
     "output_type": "stream",
     "text": [
      "Last element: 25\n"
     ]
    }
   ],
   "source": [
    "# Accessing the last element\n",
    "last_element = numbers_tuple[-1]\n",
    "print(\"Last element:\", last_element)"
   ]
  },
  {
   "cell_type": "code",
   "execution_count": 15,
   "id": "d4fedb66",
   "metadata": {},
   "outputs": [
    {
     "name": "stdout",
     "output_type": "stream",
     "text": [
      "Length of the tuple: 5\n"
     ]
    }
   ],
   "source": [
    "# Finding the length of the tuple (number of elements)\n",
    "tuple_length = len(numbers_tuple)\n",
    "print(\"Length of the tuple:\", tuple_length)"
   ]
  },
  {
   "cell_type": "code",
   "execution_count": 16,
   "id": "897d3e2c",
   "metadata": {},
   "outputs": [
    {
     "name": "stdout",
     "output_type": "stream",
     "text": [
      "Is 15 in the tuple? True\n"
     ]
    }
   ],
   "source": [
    "# Checking if a number is in the tuple\n",
    "check_number = 15\n",
    "is_in_tuple = check_number in numbers_tuple\n",
    "print(\"Is 15 in the tuple?\", is_in_tuple)"
   ]
  },
  {
   "cell_type": "code",
   "execution_count": 18,
   "id": "aacf268c",
   "metadata": {},
   "outputs": [
    {
     "name": "stdout",
     "output_type": "stream",
     "text": [
      "Sliced tuple (from index 1 to 3): (10, 15, 20)\n"
     ]
    }
   ],
   "source": [
    "# Slicing the tuple to get a part of it\n",
    "sliced_tuple = numbers_tuple[1:4]\n",
    "print(\"Sliced tuple (from index 1 to 3):\", sliced_tuple)"
   ]
  },
  {
   "cell_type": "markdown",
   "id": "4016d263",
   "metadata": {},
   "source": [
    "### **Explanation:**\n",
    "- We start by creating a tuple called `numbers_tuple` with five elements: 5, 10, 15, 20, and 25.\n",
    "- We access and print the first element of the tuple using index `0`.\n",
    "- We access and print the last element of the tuple using index `-1`.\n",
    "- We find and print the length of the tuple using the `len()` function, which tells us how many elements are in the tuple.\n",
    "- We check if a specific number (15) is in the tuple using the `in` keyword and print the result.\n",
    "- We slice the tuple to get a part of it, from index `1` to `3`, and print the sliced tuple."
   ]
  }
 ],
 "metadata": {
  "kernelspec": {
   "display_name": "Python 3 (ipykernel)",
   "language": "python",
   "name": "python3"
  },
  "language_info": {
   "codemirror_mode": {
    "name": "ipython",
    "version": 3
   },
   "file_extension": ".py",
   "mimetype": "text/x-python",
   "name": "python",
   "nbconvert_exporter": "python",
   "pygments_lexer": "ipython3",
   "version": "3.11.3"
  }
 },
 "nbformat": 4,
 "nbformat_minor": 5
}
