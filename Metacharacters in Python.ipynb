{
 "cells": [
  {
   "cell_type": "markdown",
   "id": "b1efbbfa",
   "metadata": {},
   "source": [
    "# Using Dot (`.`) Metacharacter\n",
    "\n",
    "The dot (`.`) metacharacter is used to match any character except a newline. Let's see how this works with a simple example:"
   ]
  },
  {
   "cell_type": "code",
   "execution_count": 10,
   "id": "eff7d232",
   "metadata": {},
   "outputs": [
    {
     "name": "stdout",
     "output_type": "stream",
     "text": [
      "['cat']\n"
     ]
    }
   ],
   "source": [
    "import re\n",
    "\n",
    "# Sample text\n",
    "text = \"cat bat hat mat rat pat\"\n",
    "\n",
    "# Pattern using dot to match any character between 'c' and 't'\n",
    "pattern = r\"c.t\"\n",
    "\n",
    "# Find all matches\n",
    "matches = re.findall(pattern, text)\n",
    "\n",
    "print(matches)"
   ]
  },
  {
   "cell_type": "markdown",
   "id": "1f343835",
   "metadata": {},
   "source": [
    "### Explanation\n",
    "- **Text:** `\"cat bat hat mat rat pat\"`\n",
    "- **Pattern:** `\"c.t\"`\n",
    "  - The pattern `c.t` means:\n",
    "    - `c` - Match the letter 'c'\n",
    "    - `.` - Match any character (like 'a', 'o', 'e', etc.)\n",
    "    - `t` - Match the letter 't'\n",
    "\n",
    "- **Result:** `['cat']`\n",
    "  - The `findall` function will return a list of all words that start with 'c', have any single character in between, and end with 't'. \n",
    "  - In this example, it finds \"cat\" because the dot (`.`) matches any character between 'c' and 't'."
   ]
  },
  {
   "cell_type": "markdown",
   "id": "3ab06cba",
   "metadata": {},
   "source": [
    "# Using Caret (`^`) Metacharacter\n",
    "\n",
    "The caret (`^`) metacharacter is used to match the **start** of a string. Let's see how this works with a simple example:"
   ]
  },
  {
   "cell_type": "code",
   "execution_count": 13,
   "id": "68e74cbd",
   "metadata": {},
   "outputs": [
    {
     "name": "stdout",
     "output_type": "stream",
     "text": [
      "['Python is fun']\n"
     ]
    }
   ],
   "source": [
    "import re\n",
    "\n",
    "# Sample text\n",
    "text = \"Python is fun. Python is powerful. Learning Python is great.\"\n",
    "\n",
    "# Pattern using caret to match the word \"Python\" at the start of a string\n",
    "pattern = \"^Python is fun\"\n",
    "\n",
    "# Find all matches\n",
    "matches = re.findall(pattern, text)\n",
    "\n",
    "print(matches)"
   ]
  },
  {
   "cell_type": "markdown",
   "id": "c6a5a328",
   "metadata": {},
   "source": [
    "### Explanation\n",
    "- **Text:** `\"Python is fun. Python is powerful. Learning Python is great.\"`\n",
    "- **Pattern:** `\"^Python\"`\n",
    "  - The pattern `^Python` means:\n",
    "    - `^` - Match the start of the string.\n",
    "    - `Python` - Match the exact word \"Python\".\n",
    "\n",
    "- **Result:** `['Python']`\n",
    "  - The `findall` function will return a list of all occurrences of the word \"Python\" **only if it appears at the very beginning** of the string.\n",
    "  - In this example, it finds \"Python\" because it matches the word \"Python\" at the start of the string.\n",
    "\n",
    "#### Note\n",
    "If the word \"Python\" appears anywhere else in the string, but not at the start, it won't be matched."
   ]
  },
  {
   "cell_type": "markdown",
   "id": "e96e2469",
   "metadata": {},
   "source": [
    "# Using Dollar Sign (`$`) Metacharacter\n",
    "\n",
    "The dollar sign (`$`) metacharacter is used to match the **end** of a string. Let's see how this works with a simple example:"
   ]
  },
  {
   "cell_type": "code",
   "execution_count": 14,
   "id": "119f17f5",
   "metadata": {},
   "outputs": [
    {
     "name": "stdout",
     "output_type": "stream",
     "text": [
      "['Python.']\n"
     ]
    }
   ],
   "source": [
    "import re\n",
    "\n",
    "# Sample text\n",
    "text = \"Learning is fun. Python is powerful. I love Python.\"\n",
    "\n",
    "# Pattern using dollar sign to match the word \"Python\" at the end of the string\n",
    "pattern = \"Python.$\"\n",
    "\n",
    "# Find all matches\n",
    "matches = re.findall(pattern, text)\n",
    "\n",
    "print(matches)"
   ]
  },
  {
   "cell_type": "markdown",
   "id": "9f44d243",
   "metadata": {},
   "source": [
    "### Explanation\n",
    "- **Text:** `\"Learning is fun. Python is powerful. I love Python.\"`\n",
    "- **Pattern:** `\"Python$\"`\n",
    "  - The pattern `Python$` means:\n",
    "    - `Python` - Match the exact word \"Python\".\n",
    "    - `$` - Match only if it appears at the end of the string.\n",
    "\n",
    "- **Result:** `['Python']`\n",
    "  - The `findall` function will return a list containing the word \"Python\" **only if it appears at the very end** of the string.\n",
    "  - In this example, it matches \"Python\" because \"Python\" is at the end of the string.\n",
    "\n",
    "#### Note\n",
    "If the word \"Python\" appears anywhere else in the string but not at the end, it won’t be matched by this pattern."
   ]
  },
  {
   "cell_type": "markdown",
   "id": "66de8af6",
   "metadata": {},
   "source": [
    "# Using Asterisk (`*`) Metacharacter\n",
    "\n",
    "The asterisk (`*`) metacharacter is used to match **zero or more occurrences** of the character or pattern before it. This means it will match if the character appears any number of times, including zero times. Let's see how this works with a simple example:"
   ]
  },
  {
   "cell_type": "code",
   "execution_count": 24,
   "id": "55211dce",
   "metadata": {},
   "outputs": [
    {
     "name": "stdout",
     "output_type": "stream",
     "text": [
      "['cat', 'caat', 'caaat', 'ct']\n"
     ]
    }
   ],
   "source": [
    "import re\n",
    "\n",
    "# Sample text\n",
    "text = \"cat, caat, caaat, ct\"\n",
    "\n",
    "# Pattern using asterisk to match 'c' followed by zero or more 'a's, then 't'\n",
    "pattern = \"ca*t\"\n",
    "\n",
    "# Find all matches\n",
    "matches = re.findall(pattern, text)\n",
    "\n",
    "print(matches)"
   ]
  },
  {
   "cell_type": "markdown",
   "id": "35f8a01a",
   "metadata": {},
   "source": [
    "#### Explanation\n",
    "- **Text:** `\"cat, caat, caaat, ct\"`\n",
    "- **Pattern:** `\"ca*t\"`\n",
    "  - The pattern `ca*t` means:\n",
    "    - `c` - Match the letter 'c'.\n",
    "    - `a*` - Match zero or more occurrences of the letter 'a'.\n",
    "    - `t` - Match the letter 't'.\n",
    "\n",
    "- **Result:** `['cat', 'caat', 'caaat', 'ct']`\n",
    "  - The `findall` function will return a list of all occurrences where the letter 'c' is followed by zero or more 'a's and then the letter 't'.\n",
    "  - In this example, it matches:\n",
    "    - \"cat\" (one 'a'),\n",
    "    - \"caat\" (two 'a's),\n",
    "    - \"caaat\" (three 'a's),\n",
    "    - \"ct\" (zero 'a's).\n",
    "\n",
    "#### Note\n",
    "The `*` metacharacter is very flexible because it can match any number of the specified character, including none at all."
   ]
  },
  {
   "cell_type": "markdown",
   "id": "e93f75d8",
   "metadata": {},
   "source": [
    "# Using Plus (`+`) Metacharacter\n",
    "\n",
    "The plus (`+`) metacharacter is used to match **one or more occurrences** of the character or pattern before it. This means it will match if the character appears at least once or more. Let's see how this works with a simple example:"
   ]
  },
  {
   "cell_type": "code",
   "execution_count": 4,
   "id": "d3f966d9",
   "metadata": {},
   "outputs": [
    {
     "name": "stdout",
     "output_type": "stream",
     "text": [
      "['cat', 'caat', 'caaat']\n"
     ]
    }
   ],
   "source": [
    "import re\n",
    "\n",
    "# Sample text\n",
    "text = \"cat, caat, caaat, ct\"\n",
    "\n",
    "# Pattern using plus to match 'c' followed by one or more 'a's, then 't'\n",
    "pattern = \"ca+t\"\n",
    "\n",
    "# Find all matches\n",
    "matches = re.findall(pattern, text)\n",
    "\n",
    "print(matches)"
   ]
  },
  {
   "cell_type": "markdown",
   "id": "7c2d9388",
   "metadata": {},
   "source": [
    "### Explanation\n",
    "- **Text:** `\"cat, caat, caaat, ct\"`\n",
    "- **Pattern:** `\"ca+t\"`\n",
    "  - The pattern `ca+t` means:\n",
    "    - `c` - Match the letter 'c'.\n",
    "    - `a+` - Match one or more occurrences of the letter 'a'.\n",
    "    - `t` - Match the letter 't'.\n",
    "\n",
    "- **Result:** `['cat', 'caat', 'caaat']`\n",
    "  - The `findall` function will return a list of all occurrences where the letter 'c' is followed by one or more 'a's and then the letter 't'.\n",
    "  - In this example, it matches:\n",
    "    - \"cat\" (one 'a'),\n",
    "    - \"caat\" (two 'a's),\n",
    "    - \"caaat\" (three 'a's).\n",
    "  - It does **not** match \"ct\" because there are zero 'a's, and the plus (`+`) requires at least one occurrence.\n",
    "\n",
    "#### Note\n",
    "The `+` metacharacter ensures that there is at least one occurrence of the specified character."
   ]
  },
  {
   "cell_type": "markdown",
   "id": "5a524522",
   "metadata": {},
   "source": [
    "# Using Question Mark (`?`) Metacharacter\n",
    "\n",
    "The question mark (`?`) metacharacter is used to match **zero or one occurrence** of the character or pattern before it. This means it will match if the character appears either once or not at all. Let's see how this works with a simple example:"
   ]
  },
  {
   "cell_type": "code",
   "execution_count": 27,
   "id": "d1ed7911",
   "metadata": {},
   "outputs": [
    {
     "name": "stdout",
     "output_type": "stream",
     "text": [
      "['color', 'colour']\n"
     ]
    }
   ],
   "source": [
    "import re\n",
    "\n",
    "# Sample text\n",
    "text = \"color, colour, colr\"\n",
    "\n",
    "# Pattern using question mark to match 'colo' followed by an optional 'u', then 'r'\n",
    "pattern = \"colou?r\"\n",
    "\n",
    "# Find all matches\n",
    "matches = re.findall(pattern, text)\n",
    "\n",
    "print(matches)"
   ]
  },
  {
   "cell_type": "markdown",
   "id": "0ee26bff",
   "metadata": {},
   "source": [
    "### Explanation\n",
    "- **Text:** `\"color, colour, colr\"`\n",
    "- **Pattern:** `\"colou?r\"`\n",
    "  - The pattern `colou?r` means:\n",
    "    - `colo` - Match the exact letters \"colo\".\n",
    "    - `u?` - Match zero or one occurrence of the letter 'u'.\n",
    "    - `r` - Match the letter 'r'.\n",
    "\n",
    "- **Result:** `['color', 'colour']`\n",
    "  - The `findall` function will return a list of all occurrences where:\n",
    "    - \"colo\" is followed by zero or one 'u' and then 'r'.\n",
    "  - In this example, it matches:\n",
    "    - \"color\" (zero 'u'),\n",
    "    - \"colour\" (one 'u').\n",
    "  - It does **not** match \"colr\" because it doesn't follow the pattern \"colo\".\n",
    "\n",
    "#### Note\n",
    "The `?` metacharacter makes the preceding character (in this case, 'u') optional. It will match both the presence and absence of that character."
   ]
  },
  {
   "cell_type": "markdown",
   "id": "9769acb8",
   "metadata": {},
   "source": [
    "# Using Square Brackets (`[]`) Metacharacter\n",
    "\n",
    "The square brackets (`[]`) are used to define a **character class** in regex. A character class matches any **one** of the characters inside the brackets. Let's see how this works with a simple example:"
   ]
  },
  {
   "cell_type": "code",
   "execution_count": 28,
   "id": "741e47ea",
   "metadata": {},
   "outputs": [
    {
     "name": "stdout",
     "output_type": "stream",
     "text": [
      "['cat', 'cot', 'cut', 'cit', 'cet']\n"
     ]
    }
   ],
   "source": [
    "import re\n",
    "\n",
    "# Sample text\n",
    "text = \"cat, cot, cut, cit, cet\"\n",
    "\n",
    "# Pattern using square brackets to match 'c' followed by any vowel, then 't'\n",
    "pattern = \"c[aeiou]t\"\n",
    "\n",
    "# Find all matches\n",
    "matches = re.findall(pattern, text)\n",
    "\n",
    "print(matches)"
   ]
  },
  {
   "cell_type": "markdown",
   "id": "78601a51",
   "metadata": {},
   "source": [
    "### Explanation\n",
    "- **Text:** `\"cat, cot, cut, cit, cet\"`\n",
    "- **Pattern:** `\"c[aeiou]t\"`\n",
    "  - The pattern `c[aeiou]t` means:\n",
    "    - `c` - Match the letter 'c'.\n",
    "    - `[aeiou]` - Match **any one** vowel (a, e, i, o, u).\n",
    "    - `t` - Match the letter 't'.\n",
    "\n",
    "- **Result:** `['cat', 'cot', 'cut', 'cit', 'cet']`\n",
    "  - The `findall` function will return a list of all occurrences where:\n",
    "    - \"c\" is followed by any single vowel and then \"t\".\n",
    "  - In this example, it matches all words: \"cat,\" \"cot,\" \"cut,\" \"cit,\" \"cet,\" since each word has a single vowel between 'c' and 't'.\n",
    "\n",
    "#### Note\n",
    "- You can use square brackets to match a range of characters as well:\n",
    "  - `[a-z]` matches any lowercase letter.\n",
    "  - `[0-9]` matches any digit."
   ]
  },
  {
   "cell_type": "markdown",
   "id": "33c1a396",
   "metadata": {},
   "source": [
    "# Using Pipe (`|`) Metacharacter\n",
    "\n",
    "The pipe (`|`) metacharacter is used to match **either** of the patterns separated by it. It works like a logical \"OR\". Let's see how this works with a simple example:"
   ]
  },
  {
   "cell_type": "code",
   "execution_count": 22,
   "id": "2a87fa06",
   "metadata": {},
   "outputs": [
    {
     "name": "stdout",
     "output_type": "stream",
     "text": [
      "['cat', 'dog', 'man', 'cat', 'dog']\n"
     ]
    }
   ],
   "source": [
    "import re\n",
    "\n",
    "# Sample text\n",
    "text = \"cat, dog, bat, rat,man,fan,cat,dog\"\n",
    "\n",
    "# Pattern using pipe to match either 'cat' or 'dog'\n",
    "pattern = \"cat|dog|man\"\n",
    "\n",
    "# Find all matches\n",
    "matches = re.findall(pattern, text)\n",
    "\n",
    "print(matches)"
   ]
  },
  {
   "cell_type": "markdown",
   "id": "db78b2dc",
   "metadata": {},
   "source": [
    "### Explanation\n",
    "- **Text:** `\"cat, dog, bat, rat\"`\n",
    "- **Pattern:** `\"cat|dog\"`\n",
    "  - The pattern `cat|dog` means:\n",
    "    - Match either the exact word \"cat\" **or** the exact word \"dog\".\n",
    "\n",
    "- **Result:** `['cat', 'dog']`\n",
    "  - The `findall` function will return a list of all occurrences where:\n",
    "    - The word matches either \"cat\" or \"dog\".\n",
    "  - In this example, it matches:\n",
    "    - \"cat\"\n",
    "    - \"dog\"\n",
    "  - It does **not** match \"bat\" or \"rat\" because these words are not \"cat\" or \"dog\".\n",
    "\n",
    "#### Note\n",
    "The `|` metacharacter is useful when you want to search for multiple possible patterns in a single search."
   ]
  },
  {
   "cell_type": "markdown",
   "id": "54bd4cf3",
   "metadata": {},
   "source": [
    "# Parentheses (()) Metacharacter"
   ]
  },
  {
   "cell_type": "markdown",
   "id": "52636353",
   "metadata": {},
   "source": [
    "Parentheses (`()`) in regex are used for **grouping** and **capturing** parts of a pattern. This allows you to create subpatterns within your regular expression, which can be useful when you want to extract specific parts of a match."
   ]
  },
  {
   "cell_type": "code",
   "execution_count": 16,
   "id": "07352a81",
   "metadata": {},
   "outputs": [
    {
     "name": "stdout",
     "output_type": "stream",
     "text": [
      "[('apple', '123'), ('banana', '456'), ('cherry', '789')]\n"
     ]
    }
   ],
   "source": [
    "import re\n",
    "\n",
    "# Sample text\n",
    "text = \"apple 123, banana 456, cherry 789\"\n",
    "\n",
    "# Pattern using parentheses to capture the fruit name and its number\n",
    "pattern = r\"(\\w+) (\\d+)\"\n",
    "\n",
    "# Find all matches\n",
    "matches = re.findall(pattern, text)\n",
    "\n",
    "print(matches)"
   ]
  },
  {
   "cell_type": "markdown",
   "id": "f5f37537",
   "metadata": {},
   "source": [
    "#### Explanation\n",
    "- **Text:** `\"apple 123, banana 456, cherry 789\"`\n",
    "- **Pattern:** `r\"(\\w+) (\\d+)\"`\n",
    "  - The pattern `(\\w+) (\\d+)` means:\n",
    "    - `(\\w+)` - Match and capture one or more word characters (letters, digits, or underscores).\n",
    "    - `( )` - Parentheses group the matched word characters so that they can be captured separately.\n",
    "    - `(\\d+)` - Match and capture one or more digits.\n",
    "    - The parentheses around `\\w+` and `\\d+` create **capture groups**, which store the matched text separately.\n",
    "\n",
    "- **Result:** `[('apple', '123'), ('banana', '456'), ('cherry', '789')]`\n",
    "  - The `findall` function returns a list of tuples, where each tuple contains the captured groups.\n",
    "  - In this example, it matches:\n",
    "    - \"apple\" and \"123\"\n",
    "    - \"banana\" and \"456\"\n",
    "    - \"cherry\" and \"789\"\n",
    "\n",
    "#### Note\n",
    "- Parentheses can also be used for grouping without capturing by using `(?: ...)`, which creates a non-capturing group.\n",
    "- Captured groups can be referenced later in regex patterns or in replacement strings."
   ]
  },
  {
   "cell_type": "markdown",
   "id": "0156d5b5",
   "metadata": {},
   "source": [
    "# Curly Braces (`{}`) Metacharacter\n",
    "\n",
    "Curly braces (`{}`) in regex are used to specify the **number of occurrences** of the character or group preceding them. This allows you to match a specific number of times, a minimum number of times, or a range of times."
   ]
  },
  {
   "cell_type": "code",
   "execution_count": 17,
   "id": "5dfc448d",
   "metadata": {},
   "outputs": [
    {
     "name": "stdout",
     "output_type": "stream",
     "text": [
      "['aa', 'aaaa', 'aaaa', 'aaaa', 'aaa']\n"
     ]
    }
   ],
   "source": [
    "import re\n",
    "\n",
    "# Sample text\n",
    "text = \"aa aaaa aaaaa aaaa aaa\"\n",
    "\n",
    "# Pattern using curly braces to match exactly 4 'a' characters\n",
    "pattern = \"a{2,4}\"\n",
    "\n",
    "# Find all matches\n",
    "matches = re.findall(pattern, text)\n",
    "\n",
    "print(matches)"
   ]
  },
  {
   "cell_type": "markdown",
   "id": "667fc858",
   "metadata": {},
   "source": [
    "### Explanation\n",
    "- **Text:** `\"aa aaaa aaaaa aaa aaaaaa\"`\n",
    "- **Pattern:** `\"a{4}\"`\n",
    "  - The pattern `a{4}` means:\n",
    "    - `a` - Match the letter 'a'.\n",
    "    - `{4}` - Match exactly 4 occurrences of the preceding character ('a').\n",
    "\n",
    "- **Result:** `['aaaa', 'aaaa']`\n",
    "  - The `findall` function returns a list of all occurrences where:\n",
    "    - There are exactly 4 'a' characters in a row.\n",
    "  - In this example, it matches:\n",
    "    - \"aaaa\" (exactly 4 'a's)\n",
    "    - It does **not** match \"aa\" (2 'a's), \"aaaaa\" (5 'a's), \"aaa\" (3 'a's), or \"aaaaaa\" (6 'a's).\n",
    "\n",
    "### Different Uses of Curly Braces\n",
    "\n",
    "1. **Exact Number: `{n}`**\n",
    "   - Matches exactly `n` occurrences.\n",
    "   - Example: `\"a{3}\"` matches \"aaa\".\n",
    "\n",
    "2. **At Least Number: `{n,}`**\n",
    "   - Matches at least `n` occurrences.\n",
    "   - Example: `\"a{3,}\"` matches \"aaa\", \"aaaa\", \"aaaaa\", etc.\n",
    "\n",
    "3. **Range: `{n,m}`**\n",
    "   - Matches between `n` and `m` occurrences (inclusive).\n",
    "   - Example: `\"a{2,4}\"` matches \"aa\", \"aaa\", \"aaaa\" (but not \"a\" or \"aaaaa\")."
   ]
  },
  {
   "cell_type": "code",
   "execution_count": 19,
   "id": "419ae1fa",
   "metadata": {},
   "outputs": [
    {
     "name": "stdout",
     "output_type": "stream",
     "text": [
      "['abbc', 'abbbc']\n"
     ]
    }
   ],
   "source": [
    "import re\n",
    "\n",
    "# Sample text\n",
    "text = \"abc abbc abbbc abbbbbc\"\n",
    "\n",
    "# Pattern using curly braces to match between 2 to 4 'b' characters\n",
    "pattern = \"ab{2,4}c\"\n",
    "\n",
    "# Find all matches\n",
    "matches = re.findall(pattern, text)\n",
    "\n",
    "print(matches)"
   ]
  },
  {
   "cell_type": "markdown",
   "id": "84e90bae",
   "metadata": {},
   "source": [
    "### Explanation\n",
    "- **Pattern:** `\"ab{2,4}c\"`\n",
    "  - Matches:\n",
    "    - \"abbc\" (2 'b's)\n",
    "    - \"abbbc\" (3 'b's)\n",
    "    - \"abbbbc\" (4 'b's)\n",
    "\n",
    "- **Result:** `['abbc', 'abbbc', 'abbbbc']`"
   ]
  },
  {
   "cell_type": "code",
   "execution_count": null,
   "id": "c1f64458",
   "metadata": {},
   "outputs": [],
   "source": []
  },
  {
   "cell_type": "code",
   "execution_count": null,
   "id": "d985efb9",
   "metadata": {},
   "outputs": [],
   "source": []
  },
  {
   "cell_type": "code",
   "execution_count": null,
   "id": "b11ea8cd",
   "metadata": {},
   "outputs": [],
   "source": []
  },
  {
   "cell_type": "code",
   "execution_count": null,
   "id": "b3dbc27e",
   "metadata": {},
   "outputs": [],
   "source": []
  },
  {
   "cell_type": "code",
   "execution_count": null,
   "id": "6d1a3290",
   "metadata": {},
   "outputs": [],
   "source": []
  }
 ],
 "metadata": {
  "kernelspec": {
   "display_name": "Python 3 (ipykernel)",
   "language": "python",
   "name": "python3"
  },
  "language_info": {
   "codemirror_mode": {
    "name": "ipython",
    "version": 3
   },
   "file_extension": ".py",
   "mimetype": "text/x-python",
   "name": "python",
   "nbconvert_exporter": "python",
   "pygments_lexer": "ipython3",
   "version": "3.11.3"
  }
 },
 "nbformat": 4,
 "nbformat_minor": 5
}
