{
 "cells": [
  {
   "cell_type": "markdown",
   "id": "52f91ad1",
   "metadata": {},
   "source": [
    "# Module 5\n",
    "\n",
    "# Database Programming: \n",
    "\n",
    "### Introduction, \n",
    "### Python Database Application Programmer’s Interface (DB-API), \n",
    "### Object Relational Managers (ORMs),    \n",
    "### Related Modules."
   ]
  },
  {
   "cell_type": "markdown",
   "id": "11b40d1e",
   "metadata": {},
   "source": [
    "# Database Programming in Python"
   ]
  },
  {
   "cell_type": "markdown",
   "id": "a1c37ad9",
   "metadata": {},
   "source": [
    "**1. Introduction to Database Programming in Python**\n",
    "Database programming refers to the process of interacting with a database using a programming language. In Python, it can be done using different libraries like `sqlite3`, `MySQL`, `PostgreSQL`, etc. Python provides efficient ways to connect and manipulate data stored in a database.  \n",
    "**Analogy:** Think of database programming as talking to a librarian (the database) using a specific language (Python). Just like you use a library card to access books, you use libraries like `sqlite3`, `MySQL`, and `PostgreSQL` to access and manage data stored in the database.\n",
    "\n",
    "---\n",
    "\n",
    "**2. Key Libraries for Database Programming in Python**\n",
    "- **sqlite3**: Built-in library in Python for working with SQLite databases.     \n",
    "- **MySQL Connector**: Used to connect to a MySQL database.   \n",
    "- **psycopg2**: Used to connect to PostgreSQL databases.  \n",
    "  \n",
    "---"
   ]
  },
  {
   "cell_type": "markdown",
   "id": "9a8eef1b",
   "metadata": {},
   "source": [
    "# Database Application Programmer Interface (DB-API)"
   ]
  },
  {
   "cell_type": "markdown",
   "id": "fbc6d271",
   "metadata": {},
   "source": [
    "**Database Application Programmer Interface (DB-API)** is a standard interface for accessing databases in Python. It defines a set of methods that allows Python applications to interact with a wide variety of databases, such as MySQL, PostgreSQL, SQLite, and Oracle. The purpose of DB-API is to provide a uniform interface, regardless of the database used."
   ]
  },
  {
   "cell_type": "markdown",
   "id": "17013a7c",
   "metadata": {},
   "source": [
    "### Key Components of Python's DB-API:\n",
    "\n",
    "1. **Database Connection**:\n",
    "   To work with a database, the first step is to establish a connection. This is done by using a driver or library specific to the database you're working with (like `sqlite3`, `psycopg2`, or `mysql-connector`).\n",
    "\n",
    "   Example using SQLite:"
   ]
  },
  {
   "cell_type": "code",
   "execution_count": null,
   "id": "b2a76298",
   "metadata": {},
   "outputs": [],
   "source": [
    "import sqlite3\n",
    "\n",
    "# Connect to the database\n",
    "connection = sqlite3.connect('my_database.db') "
   ]
  },
  {
   "cell_type": "markdown",
   "id": "fe0b4701",
   "metadata": {},
   "source": [
    "2. **Cursor Object**:\n",
    "   Once connected, you interact with the database using a **cursor** object. A cursor is used to execute SQL queries and fetch results from the database.\n",
    "\n",
    "   Example:\n",
    "   "
   ]
  },
  {
   "cell_type": "code",
   "execution_count": null,
   "id": "b1ad32a6",
   "metadata": {},
   "outputs": [],
   "source": [
    "cursor = connection.cursor()   "
   ]
  },
  {
   "cell_type": "markdown",
   "id": "f4c62860",
   "metadata": {},
   "source": [
    "3. **Executing SQL Queries**:\n",
    "   You can execute SQL commands (like `SELECT`, `INSERT`, `UPDATE`, `DELETE`) using the `execute()` method of the cursor object.\n",
    "\n",
    "   Example:\n",
    "   "
   ]
  },
  {
   "cell_type": "code",
   "execution_count": null,
   "id": "16c34341",
   "metadata": {},
   "outputs": [],
   "source": [
    "# Create a new table\n",
    "cursor.execute(\"CREATE TABLE students (id INTEGER PRIMARY KEY, name TEXT, age INTEGER)\")\n",
    "\n",
    "# Insert a new record\n",
    "cursor.execute(\"INSERT INTO students (name, age) VALUES ('John Doe', 21)\")"
   ]
  },
  {
   "cell_type": "markdown",
   "id": "02c69f5d",
   "metadata": {},
   "source": [
    "4. **Fetching Results**:\n",
    "   After executing a `SELECT` query, you can fetch the results using methods like `fetchone()`, `fetchall()`, etc.\n",
    "\n",
    "   Example:\n",
    "   "
   ]
  },
  {
   "cell_type": "code",
   "execution_count": null,
   "id": "c9a278f1",
   "metadata": {},
   "outputs": [],
   "source": [
    "cursor.execute(\"SELECT * FROM students\")\n",
    "rows = cursor.fetchall()\n",
    "\n",
    "for row in rows:\n",
    "    print(row)"
   ]
  },
  {
   "cell_type": "markdown",
   "id": "56f3e0c1",
   "metadata": {},
   "source": [
    "5. **Parameter Substitution**:\n",
    "   DB-API allows you to pass parameters to SQL queries in a safe way to avoid SQL injection attacks. You can use placeholders like `?` or `%s` (depending on the library used).\n",
    "\n",
    "   Example:\n",
    "   "
   ]
  },
  {
   "cell_type": "code",
   "execution_count": null,
   "id": "1be16fda",
   "metadata": {},
   "outputs": [],
   "source": [
    "cursor.execute(\"INSERT INTO students (name, age) VALUES (?, ?)\", ('Alice', 22))"
   ]
  },
  {
   "cell_type": "markdown",
   "id": "c56c4044",
   "metadata": {},
   "source": [
    "6. **Commit and Rollback**:\n",
    "   For databases that support transactions, you should use `commit()` to save changes and `rollback()` to undo changes.\n",
    "\n",
    "   Example:\n",
    "   "
   ]
  },
  {
   "cell_type": "code",
   "execution_count": null,
   "id": "5de66ed4",
   "metadata": {},
   "outputs": [],
   "source": [
    "# Save the changes\n",
    "connection.commit()\n",
    "\n",
    "# Undo changes if needed\n",
    "connection.rollback()"
   ]
  },
  {
   "cell_type": "markdown",
   "id": "5e94e3fd",
   "metadata": {},
   "source": [
    "7. **Closing Connection and Cursor**:\n",
    "   After finishing the operations, it's important to close the cursor and connection to free up resources.\n",
    "\n",
    "   Example:"
   ]
  },
  {
   "cell_type": "code",
   "execution_count": null,
   "id": "630aeff6",
   "metadata": {},
   "outputs": [],
   "source": [
    "cursor.close()\n",
    "connection.close()"
   ]
  },
  {
   "cell_type": "markdown",
   "id": "73a4a4b8",
   "metadata": {},
   "source": [
    "### Popular Database Drivers Supporting DB-API:\n",
    "\n",
    "1. **SQLite**: `sqlite3` (comes with Python)\n",
    "2. **MySQL**: `mysql-connector`, `PyMySQL`\n",
    "3. **PostgreSQL**: `psycopg2`\n",
    "4. **Oracle**: `cx_Oracle`\n",
    "5. **SQL Server**: `pyodbc`"
   ]
  },
  {
   "cell_type": "markdown",
   "id": "825978aa",
   "metadata": {},
   "source": [
    "### Key Features of DB-API:\n",
    "- **Uniformity**: DB-API provides a uniform interface across different databases, so the core methods are similar for all databases.\n",
    "- **Cursor-based Access**: Queries are executed through cursors, providing a clean abstraction.\n",
    "- **Parameterization**: Supports parameterized queries to avoid SQL injection.\n",
    "- **Transaction Support**: Allows explicit control over transactions (commit and rollback).\n",
    "- **Error Handling**: Provides a set of exception classes (e.g., `DatabaseError`, `OperationalError`) for handling errors effectively.\n",
    "\n",
    "DB-API makes it easy to switch between different databases with minimal code changes, as long as you use the same interface functions."
   ]
  },
  {
   "cell_type": "code",
   "execution_count": null,
   "id": "8e1b681d",
   "metadata": {},
   "outputs": [],
   "source": []
  },
  {
   "cell_type": "markdown",
   "id": "7a079dd4",
   "metadata": {},
   "source": [
    "# Object-Relational Manager (ORM)"
   ]
  },
  {
   "cell_type": "markdown",
   "id": "d0cd0f60",
   "metadata": {},
   "source": [
    "An **Object-Relational Manager (ORM)** is a tool or software that makes it easier to interact with databases using object-oriented programming languages like Python, Java, or C++. The ORM automates the process of converting data between two incompatible systems: **relational databases** (which store data in tables) and **object-oriented programs** (which use objects and classes).\n",
    "\n",
    "Instead of writing SQL queries to interact with the database, you use the ORM to handle these operations in the form of objects. This makes it easier to work with databases using familiar programming concepts like objects, classes, and methods.\n",
    "\n",
    "### How ORMs Work:\n",
    "\n",
    "1. **Mapping Between Objects and Database Tables**:\n",
    "   - **Classes** in the code are mapped to **tables** in the database.\n",
    "   - **Objects** (instances of classes) correspond to **rows** in the database tables.\n",
    "   - The **attributes** of the objects map to the **columns** in the database tables.\n",
    "\n",
    "2. **Automatic SQL Generation**:\n",
    "   - The ORM translates the operations you perform on objects into SQL queries behind the scenes. For example:\n",
    "     - If you create an object in your program (like a new `Student`), the ORM will automatically generate the SQL `INSERT` query to add that object to the database.\n",
    "     - Similarly, if you update an object, the ORM will generate an `UPDATE` query.\n",
    "\n",
    "3. **Handling Data Relationships**:\n",
    "   - ORMs can manage **relationships** between different objects (like students and their courses) and ensure that these relationships are properly represented in the database using foreign keys and joins.\n",
    "\n",
    "### Benefits of Using an ORM:\n",
    "\n",
    "1. **No Need to Write SQL**: You don't need to manually write SQL queries for basic operations like inserting, updating, deleting, or retrieving data.\n",
    "   \n",
    "2. **Cross-Database Compatibility**: ORMs often support multiple databases, allowing you to switch databases without changing your code.\n",
    "\n",
    "3. **Improved Productivity**: Working with objects and classes in a programming language is generally faster and less error-prone than writing raw SQL queries.\n",
    "\n",
    "4. **Easier Maintenance**: Since your code interacts with the ORM rather than the database directly, changes to the database schema (like renaming a column) can often be managed by updating the ORM mappings.\n",
    "\n",
    "---\n",
    "\n",
    "### Example:\n",
    "\n",
    "Without ORM:\n",
    "```sql\n",
    "INSERT INTO students (name, age) VALUES ('Alice', 20);\n",
    "```\n",
    "\n",
    "With ORM:\n",
    "```python\n",
    "new_student = Student(name='Alice', age=20)\n",
    "db_session.add(new_student)\n",
    "db_session.commit()\n",
    "```\n",
    "\n",
    "In this example, the ORM takes care of converting the object `new_student` into a proper SQL `INSERT` statement and saving it to the database.\n",
    "\n",
    "---\n",
    "\n",
    "Overall, an **Object-Relational Manager (ORM)** is a useful tool for simplifying and automating database interactions in modern programming."
   ]
  },
  {
   "cell_type": "markdown",
   "id": "2e9acba4",
   "metadata": {},
   "source": [
    "# Related Modules"
   ]
  },
  {
   "cell_type": "markdown",
   "id": "7b888fa5",
   "metadata": {},
   "source": [
    "### 1. **Python Database Application Programmer’s Interface (DB-API) Modules**:\n",
    "Python provides support for working with databases through the **DB-API**, which is defined in **PEP 249**. DB-API specifies a standard interface for connecting to relational databases, executing SQL queries, and handling results.\n",
    "\n",
    "#### Common DB-API Modules:\n",
    "1. **sqlite3**: A built-in module that provides an interface to **SQLite** databases, which are lightweight and used in many applications for local storage.\n",
    " \n",
    "2. **psycopg2**: A popular DB-API compliant module used to connect to **PostgreSQL** databases.\n",
    "   \n",
    "3. **MySQL Connector** (mysql-connector-python): A module provided by MySQL to connect Python programs with a **MySQL** database.\n",
    "   \n",
    "4. **PyODBC**: A module used to connect to databases via **ODBC** (Open Database Connectivity), supporting multiple database systems such as SQL Server, PostgreSQL, and more.\n",
    "   \n",
    "5. **cx_Oracle**: A DB-API compliant module used to interface with **Oracle** databases.\n",
    "   \n",
    "### 2. **Object-Relational Managers (ORMs)** Related Modules:\n",
    "ORMs provide an abstraction layer between the database and the Python program, allowing developers to interact with databases using Python objects and methods without directly writing SQL.\n",
    "\n",
    "#### Common ORM Libraries:\n",
    "1. **SQLAlchemy**: A powerful and popular ORM library in Python, which provides a full-featured interface for both **DB-API** and ORM functionalities. It allows you to interact with databases using both raw SQL and ORM models.\n",
    "   \n",
    "\n",
    "2. **Django ORM**: Part of the **Django** web framework, it provides a simple and elegant way to interact with databases. The Django ORM allows defining models in Python classes that correspond to database tables.\n",
    "   \n",
    "\n",
    "3. **Peewee**: A lightweight ORM for Python, designed to be simple and small while still providing the essential ORM features.\n",
    "   \n",
    "4. **Tortoise ORM**: An easy-to-use asynchronous ORM inspired by Django’s ORM, but with async/await support for **Python 3.7+**.\n",
    "   \n",
    "5. **Pony ORM**: A Python ORM that allows you to write database queries using normal Python generators instead of writing SQL.\n",
    "   \n",
    "\n",
    "### 3. **Related Utility Modules**:\n",
    "These modules can be useful in conjunction with DB-API and ORMs for managing database connections, migrations, and debugging.\n",
    "\n",
    "1. **Alembic**: A lightweight database migration tool often used with SQLAlchemy for handling schema changes in a database.\n",
    "   \n",
    "2. **Django South (or Django Migrations)**: Handles database migrations for the Django framework, helping manage schema evolution without losing data.\n",
    "   \n",
    "3. **PyMySQL**: A pure Python MySQL client library that provides similar functionality as `mysql-connector` but is often used in combination with ORMs like SQLAlchemy.\n",
    "   \n",
    "---\n",
    "\n",
    "### Summary of Related Modules:\n",
    "- **DB-API Modules**: `sqlite3`, `psycopg2`, `MySQL Connector`, `PyODBC`, `cx_Oracle`\n",
    "- **ORM Libraries**: `SQLAlchemy`, `Django ORM`, `Peewee`, `Tortoise ORM`, `Pony ORM`\n",
    "- **Utility Modules**: `Alembic`, `Django Migrations`, `PyMySQL`\n",
    "\n",
    "These modules cover both direct interaction with databases (via DB-API) and abstracted interaction (via ORMs) in Python. They simplify database management, reduce the need for manual SQL, and provide easy-to-use tools for developers."
   ]
  }
 ],
 "metadata": {
  "kernelspec": {
   "display_name": "Python 3 (ipykernel)",
   "language": "python",
   "name": "python3"
  },
  "language_info": {
   "codemirror_mode": {
    "name": "ipython",
    "version": 3
   },
   "file_extension": ".py",
   "mimetype": "text/x-python",
   "name": "python",
   "nbconvert_exporter": "python",
   "pygments_lexer": "ipython3",
   "version": "3.11.3"
  }
 },
 "nbformat": 4,
 "nbformat_minor": 5
}
