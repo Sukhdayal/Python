{
 "cells": [
  {
   "cell_type": "markdown",
   "id": "fbc6d271",
   "metadata": {},
   "source": [
    "**Database Application Programmer Interface (DB-API)** is a standard interface for accessing databases in Python. It defines a set of methods that allows Python applications to interact with a wide variety of databases, such as MySQL, PostgreSQL, SQLite, and Oracle. The purpose of DB-API is to provide a uniform interface, regardless of the database used."
   ]
  },
  {
   "cell_type": "markdown",
   "id": "17013a7c",
   "metadata": {},
   "source": [
    "### Key Components of Python's DB-API:\n",
    "\n",
    "1. **Database Connection**:\n",
    "   To work with a database, the first step is to establish a connection. This is done by using a driver or library specific to the database you're working with (like `sqlite3`, `psycopg2`, or `mysql-connector`).\n",
    "\n",
    "   Example using SQLite:"
   ]
  },
  {
   "cell_type": "code",
   "execution_count": null,
   "id": "b2a76298",
   "metadata": {},
   "outputs": [],
   "source": [
    "import sqlite3\n",
    "\n",
    "# Connect to the database\n",
    "connection = sqlite3.connect('my_database.db') "
   ]
  },
  {
   "cell_type": "markdown",
   "id": "fe0b4701",
   "metadata": {},
   "source": [
    "2. **Cursor Object**:\n",
    "   Once connected, you interact with the database using a **cursor** object. A cursor is used to execute SQL queries and fetch results from the database.\n",
    "\n",
    "   Example:\n",
    "   "
   ]
  },
  {
   "cell_type": "code",
   "execution_count": null,
   "id": "b1ad32a6",
   "metadata": {},
   "outputs": [],
   "source": [
    "cursor = connection.cursor()   "
   ]
  },
  {
   "cell_type": "markdown",
   "id": "f4c62860",
   "metadata": {},
   "source": [
    "3. **Executing SQL Queries**:\n",
    "   You can execute SQL commands (like `SELECT`, `INSERT`, `UPDATE`, `DELETE`) using the `execute()` method of the cursor object.\n",
    "\n",
    "   Example:\n",
    "   "
   ]
  },
  {
   "cell_type": "code",
   "execution_count": null,
   "id": "16c34341",
   "metadata": {},
   "outputs": [],
   "source": [
    "# Create a new table\n",
    "cursor.execute(\"CREATE TABLE students (id INTEGER PRIMARY KEY, name TEXT, age INTEGER)\")\n",
    "\n",
    "# Insert a new record\n",
    "cursor.execute(\"INSERT INTO students (name, age) VALUES ('John Doe', 21)\")"
   ]
  },
  {
   "cell_type": "markdown",
   "id": "02c69f5d",
   "metadata": {},
   "source": [
    "4. **Fetching Results**:\n",
    "   After executing a `SELECT` query, you can fetch the results using methods like `fetchone()`, `fetchall()`, etc.\n",
    "\n",
    "   Example:\n",
    "   "
   ]
  },
  {
   "cell_type": "code",
   "execution_count": null,
   "id": "c9a278f1",
   "metadata": {},
   "outputs": [],
   "source": [
    "cursor.execute(\"SELECT * FROM students\")\n",
    "rows = cursor.fetchall()\n",
    "\n",
    "for row in rows:\n",
    "    print(row)"
   ]
  },
  {
   "cell_type": "markdown",
   "id": "56f3e0c1",
   "metadata": {},
   "source": [
    "5. **Parameter Substitution**:\n",
    "   DB-API allows you to pass parameters to SQL queries in a safe way to avoid SQL injection attacks. You can use placeholders like `?` or `%s` (depending on the library used).\n",
    "\n",
    "   Example:\n",
    "   "
   ]
  },
  {
   "cell_type": "code",
   "execution_count": null,
   "id": "1be16fda",
   "metadata": {},
   "outputs": [],
   "source": [
    "cursor.execute(\"INSERT INTO students (name, age) VALUES (?, ?)\", ('Alice', 22))"
   ]
  },
  {
   "cell_type": "markdown",
   "id": "c56c4044",
   "metadata": {},
   "source": [
    "6. **Commit and Rollback**:\n",
    "   For databases that support transactions, you should use `commit()` to save changes and `rollback()` to undo changes.\n",
    "\n",
    "   Example:\n",
    "   "
   ]
  },
  {
   "cell_type": "code",
   "execution_count": null,
   "id": "5de66ed4",
   "metadata": {},
   "outputs": [],
   "source": [
    "# Save the changes\n",
    "connection.commit()\n",
    "\n",
    "# Undo changes if needed\n",
    "connection.rollback()"
   ]
  },
  {
   "cell_type": "markdown",
   "id": "5e94e3fd",
   "metadata": {},
   "source": [
    "7. **Closing Connection and Cursor**:\n",
    "   After finishing the operations, it's important to close the cursor and connection to free up resources.\n",
    "\n",
    "   Example:"
   ]
  },
  {
   "cell_type": "code",
   "execution_count": null,
   "id": "630aeff6",
   "metadata": {},
   "outputs": [],
   "source": [
    "cursor.close()\n",
    "connection.close()"
   ]
  },
  {
   "cell_type": "markdown",
   "id": "73a4a4b8",
   "metadata": {},
   "source": [
    "### Popular Database Drivers Supporting DB-API:\n",
    "\n",
    "1. **SQLite**: `sqlite3` (comes with Python)\n",
    "2. **MySQL**: `mysql-connector`, `PyMySQL`\n",
    "3. **PostgreSQL**: `psycopg2`\n",
    "4. **Oracle**: `cx_Oracle`\n",
    "5. **SQL Server**: `pyodbc`"
   ]
  },
  {
   "cell_type": "markdown",
   "id": "825978aa",
   "metadata": {},
   "source": [
    "### Key Features of DB-API:\n",
    "- **Uniformity**: DB-API provides a uniform interface across different databases, so the core methods are similar for all databases.\n",
    "- **Cursor-based Access**: Queries are executed through cursors, providing a clean abstraction.\n",
    "- **Parameterization**: Supports parameterized queries to avoid SQL injection.\n",
    "- **Transaction Support**: Allows explicit control over transactions (commit and rollback).\n",
    "- **Error Handling**: Provides a set of exception classes (e.g., `DatabaseError`, `OperationalError`) for handling errors effectively.\n",
    "\n",
    "DB-API makes it easy to switch between different databases with minimal code changes, as long as you use the same interface functions."
   ]
  },
  {
   "cell_type": "code",
   "execution_count": null,
   "id": "fd944605",
   "metadata": {},
   "outputs": [],
   "source": []
  }
 ],
 "metadata": {
  "kernelspec": {
   "display_name": "Python 3 (ipykernel)",
   "language": "python",
   "name": "python3"
  },
  "language_info": {
   "codemirror_mode": {
    "name": "ipython",
    "version": 3
   },
   "file_extension": ".py",
   "mimetype": "text/x-python",
   "name": "python",
   "nbconvert_exporter": "python",
   "pygments_lexer": "ipython3",
   "version": "3.11.3"
  }
 },
 "nbformat": 4,
 "nbformat_minor": 5
}
